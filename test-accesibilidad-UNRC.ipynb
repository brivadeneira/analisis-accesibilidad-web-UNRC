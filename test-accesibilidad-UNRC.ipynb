{
 "cells": [
  {
   "cell_type": "code",
   "execution_count": 1,
   "metadata": {},
   "outputs": [],
   "source": [
    "import time\n",
    "import csv\n",
    "\n",
    "import pandas as pd\n",
    "\n",
    "import requests\n",
    "from bs4 import BeautifulSoup"
   ]
  },
  {
   "cell_type": "code",
   "execution_count": 2,
   "metadata": {},
   "outputs": [
    {
     "data": {
      "text/html": [
       "<div>\n",
       "<style scoped>\n",
       "    .dataframe tbody tr th:only-of-type {\n",
       "        vertical-align: middle;\n",
       "    }\n",
       "\n",
       "    .dataframe tbody tr th {\n",
       "        vertical-align: top;\n",
       "    }\n",
       "\n",
       "    .dataframe thead th {\n",
       "        text-align: right;\n",
       "    }\n",
       "</style>\n",
       "<table border=\"1\" class=\"dataframe\">\n",
       "  <thead>\n",
       "    <tr style=\"text-align: right;\">\n",
       "      <th></th>\n",
       "      <th>0</th>\n",
       "    </tr>\n",
       "  </thead>\n",
       "  <tbody>\n",
       "    <tr>\n",
       "      <th>0</th>\n",
       "      <td>www.unrc.edu.ar</td>\n",
       "    </tr>\n",
       "    <tr>\n",
       "      <th>1</th>\n",
       "      <td>webmail.unrc.edu.ar</td>\n",
       "    </tr>\n",
       "    <tr>\n",
       "      <th>2</th>\n",
       "      <td>sisinfo.unrc.edu.ar</td>\n",
       "    </tr>\n",
       "    <tr>\n",
       "      <th>3</th>\n",
       "      <td>www.siat.unrc.edu.ar</td>\n",
       "    </tr>\n",
       "    <tr>\n",
       "      <th>4</th>\n",
       "      <td>www.ing.unrc.edu.ar</td>\n",
       "    </tr>\n",
       "    <tr>\n",
       "      <th>5</th>\n",
       "      <td>gma.ing.unrc.edu.ar</td>\n",
       "    </tr>\n",
       "    <tr>\n",
       "      <th>6</th>\n",
       "      <td>www.irc.unrc.edu.ar</td>\n",
       "    </tr>\n",
       "    <tr>\n",
       "      <th>7</th>\n",
       "      <td>juanfilloy.bib.unrc.edu.ar</td>\n",
       "    </tr>\n",
       "    <tr>\n",
       "      <th>8</th>\n",
       "      <td>www.hum.unrc.edu.ar</td>\n",
       "    </tr>\n",
       "    <tr>\n",
       "      <th>9</th>\n",
       "      <td>www.eco.unrc.edu.ar</td>\n",
       "    </tr>\n",
       "    <tr>\n",
       "      <th>10</th>\n",
       "      <td>app2.eco.unrc.edu.ar</td>\n",
       "    </tr>\n",
       "    <tr>\n",
       "      <th>11</th>\n",
       "      <td>www.fce.unrc.edu.ar</td>\n",
       "    </tr>\n",
       "    <tr>\n",
       "      <th>12</th>\n",
       "      <td>revista.eco.unrc.edu.ar</td>\n",
       "    </tr>\n",
       "    <tr>\n",
       "      <th>13</th>\n",
       "      <td>www.extension.unrc.edu.ar</td>\n",
       "    </tr>\n",
       "    <tr>\n",
       "      <th>14</th>\n",
       "      <td>cepeiper.unrc.edu.ar</td>\n",
       "    </tr>\n",
       "    <tr>\n",
       "      <th>15</th>\n",
       "      <td>www.edutec.unrc.edu.ar</td>\n",
       "    </tr>\n",
       "    <tr>\n",
       "      <th>16</th>\n",
       "      <td>www.ayv.unrc.edu.ar</td>\n",
       "    </tr>\n",
       "    <tr>\n",
       "      <th>17</th>\n",
       "      <td>www.exa.unrc.edu.ar</td>\n",
       "    </tr>\n",
       "    <tr>\n",
       "      <th>18</th>\n",
       "      <td>dmi.exa.unrc.edu.ar</td>\n",
       "    </tr>\n",
       "    <tr>\n",
       "      <th>19</th>\n",
       "      <td>dq.exa.unrc.edu.ar</td>\n",
       "    </tr>\n",
       "    <tr>\n",
       "      <th>20</th>\n",
       "      <td>dmat.exa.unrc.edu.ar</td>\n",
       "    </tr>\n",
       "    <tr>\n",
       "      <th>21</th>\n",
       "      <td>dc.exa.unrc.edu.ar</td>\n",
       "    </tr>\n",
       "    <tr>\n",
       "      <th>22</th>\n",
       "      <td>geo.exa.unrc.edu.ar</td>\n",
       "    </tr>\n",
       "    <tr>\n",
       "      <th>23</th>\n",
       "      <td>neutron.exa.unrc.edu.ar</td>\n",
       "    </tr>\n",
       "    <tr>\n",
       "      <th>24</th>\n",
       "      <td>dbm.exa.unrc.edu.ar</td>\n",
       "    </tr>\n",
       "    <tr>\n",
       "      <th>25</th>\n",
       "      <td>dcn.exa.unrc.edu.ar</td>\n",
       "    </tr>\n",
       "    <tr>\n",
       "      <th>26</th>\n",
       "      <td>www.coro.unrc.edu.ar</td>\n",
       "    </tr>\n",
       "    <tr>\n",
       "      <th>27</th>\n",
       "      <td>cursos.ing.unrc.edu.ar</td>\n",
       "    </tr>\n",
       "  </tbody>\n",
       "</table>\n",
       "</div>"
      ],
      "text/plain": [
       "                             0\n",
       "0              www.unrc.edu.ar\n",
       "1          webmail.unrc.edu.ar\n",
       "2          sisinfo.unrc.edu.ar\n",
       "3         www.siat.unrc.edu.ar\n",
       "4          www.ing.unrc.edu.ar\n",
       "5          gma.ing.unrc.edu.ar\n",
       "6          www.irc.unrc.edu.ar\n",
       "7   juanfilloy.bib.unrc.edu.ar\n",
       "8          www.hum.unrc.edu.ar\n",
       "9          www.eco.unrc.edu.ar\n",
       "10        app2.eco.unrc.edu.ar\n",
       "11         www.fce.unrc.edu.ar\n",
       "12     revista.eco.unrc.edu.ar\n",
       "13   www.extension.unrc.edu.ar\n",
       "14        cepeiper.unrc.edu.ar\n",
       "15      www.edutec.unrc.edu.ar\n",
       "16         www.ayv.unrc.edu.ar\n",
       "17         www.exa.unrc.edu.ar\n",
       "18         dmi.exa.unrc.edu.ar\n",
       "19          dq.exa.unrc.edu.ar\n",
       "20        dmat.exa.unrc.edu.ar\n",
       "21          dc.exa.unrc.edu.ar\n",
       "22         geo.exa.unrc.edu.ar\n",
       "23     neutron.exa.unrc.edu.ar\n",
       "24         dbm.exa.unrc.edu.ar\n",
       "25         dcn.exa.unrc.edu.ar\n",
       "26        www.coro.unrc.edu.ar\n",
       "27      cursos.ing.unrc.edu.ar"
      ]
     },
     "execution_count": 2,
     "metadata": {},
     "output_type": "execute_result"
    }
   ],
   "source": [
    "#df = pd.read_csv('urls_universidades_argentinas.csv')\n",
    "\n",
    "df = pd.read_csv('datos/unrc/unrc_sub_domains.csv', header=None)\n",
    "df"
   ]
  },
  {
   "cell_type": "code",
   "execution_count": 3,
   "metadata": {},
   "outputs": [],
   "source": [
    "def absolute_url(site, href):\n",
    "    print('sitio ', site, 'href: ', href)\n",
    "    if '#' in href or '.exe' in href:\n",
    "        print('encontré # o .exe')\n",
    "        return False\n",
    "    elif 'http' in href:\n",
    "        print('encontré http')\n",
    "        return(href)\n",
    "    else:\n",
    "        try:\n",
    "            print(href)\n",
    "            print(href.split('/')[1])\n",
    "            return('http://' + site + '/' + href.split('/')[1])\n",
    "        except:\n",
    "            print('no pude splitear')\n",
    "            return(False)"
   ]
  },
  {
   "cell_type": "code",
   "execution_count": 4,
   "metadata": {},
   "outputs": [],
   "source": [
    "def has_a_form(href):\n",
    "    # ignorar form de búsqueda\n",
    "    if href == False:\n",
    "        return(href)\n",
    "    else:\n",
    "        try:\n",
    "            r = requests.get(href, verify=False)\n",
    "            soup = BeautifulSoup(r.text)\n",
    "            if soup.findAll('input'):\n",
    "                print('encontré form: ', href)\n",
    "                return (True)\n",
    "            else:\n",
    "                return(False)\n",
    "        except ConnectionRefusedError or NewConnectionError or NewConnectionError:\n",
    "            return(False)"
   ]
  },
  {
   "cell_type": "code",
   "execution_count": 5,
   "metadata": {},
   "outputs": [],
   "source": [
    "def pages_finder(name_dict, soup):\n",
    "    oferta_list = []\n",
    "    contacto_list = []\n",
    "    forms_list = []\n",
    "    form_found = False\n",
    "\n",
    "    anchor_list = [anchor['href'] for anchor in soup.findAll('a', href=True)]\n",
    "    in_domain_anchor_list = [href for href in anchor_list if ('.'.join(site.split('.')[-3:]) in href or '../' in href)]\n",
    "    print(site + ', links: ')\n",
    "    #print(in_domain_anchor_list)\n",
    "    # pasar a minuscula los links\n",
    "    \n",
    "    # Búsqueda rápida para \"oferta académica\" y \"contacto\"\n",
    "    oferta_list = [s for s in in_domain_anchor_list if (\"oferta\" in s or \"carrera\" in s)]\n",
    "    print(site + ', oferta académica: ')\n",
    "    print(oferta_list)\n",
    "    \n",
    "    if oferta_list:\n",
    "        name_dict['oferta'] = absolute_url(name_dict['url'], oferta_list[0])\n",
    "    \n",
    "    contacto_list = [s for s in in_domain_anchor_list if \"contacto\" in s]\n",
    "    print(site + ', contacto: ')\n",
    "    print(contacto_list)\n",
    "    \n",
    "    if contacto_list:\n",
    "        href = absolute_url(name_dict['url'], contacto_list[0])\n",
    "        if has_a_form(href):\n",
    "            name_dict['formulario'] = href\n",
    "            form_found = True\n",
    "    \n",
    "    if not form_found:\n",
    "        forms_list =  [s for s in in_domain_anchor_list if (\"inscripcion\" in s or \"beca\" in s or \"solicitud\" in s)]\n",
    "        if forms_list:\n",
    "            for href in forms_list:\n",
    "                url = absolute_url(name_dict['url'], href)\n",
    "                if has_a_form(url):\n",
    "                    name_dict['formulario'] = url\n",
    "                    form_found = True\n",
    "                    break\n",
    "        \n",
    "        else:\n",
    "            tmp_list = [href for href in in_domain_anchor_list if href not in oferta_list]\n",
    "            tmp_list_2 = [href for href in tmp_list if href not in contacto_list]\n",
    "            other_links = [href for href in tmp_list_2 if href not in forms_list]\n",
    "            for link in other_links:\n",
    "                url = absolute_url(name_dict['url'], link)\n",
    "                if has_a_form(url):\n",
    "                    form_found = True\n",
    "                    name_dict['formulario'] = url\n",
    "                    break\n",
    "            \n",
    "    return(name_dict)"
   ]
  },
  {
   "cell_type": "code",
   "execution_count": 6,
   "metadata": {},
   "outputs": [],
   "source": [
    "def title_finder(soup):\n",
    "    try:\n",
    "        title = soup.title.contents[0]\n",
    "    except AttributeError:\n",
    "        title = False\n",
    "    except IndexError:\n",
    "        title = False\n",
    "    return(title)"
   ]
  },
  {
   "cell_type": "code",
   "execution_count": 7,
   "metadata": {},
   "outputs": [],
   "source": [
    "def url_to_dict(name_dict, soup):\n",
    "    name_dict = pages_finder(name_dict, soup)\n",
    "    return(name_dict)"
   ]
  },
  {
   "cell_type": "code",
   "execution_count": 8,
   "metadata": {
    "scrolled": true
   },
   "outputs": [
    {
     "name": "stderr",
     "output_type": "stream",
     "text": [
      "/home/bibiana/.conda/envs/taw/lib/python3.6/site-packages/urllib3/connectionpool.py:857: InsecureRequestWarning: Unverified HTTPS request is being made. Adding certificate verification is strongly advised. See: https://urllib3.readthedocs.io/en/latest/advanced-usage.html#ssl-warnings\n",
      "  InsecureRequestWarning)\n"
     ]
    },
    {
     "name": "stdout",
     "output_type": "stream",
     "text": [
      "www.unrc.edu.ar, links: \n",
      "www.unrc.edu.ar, oferta académica: \n",
      "['https://www.unrc.edu.ar/unrc/estudiar/carreras.php']\n",
      "sitio  http://www.unrc.edu.ar href:  https://www.unrc.edu.ar/unrc/estudiar/carreras.php\n",
      "encontré http\n",
      "www.unrc.edu.ar, contacto: \n",
      "['https://www.unrc.edu.ar/unrc/launiversidad/contacto.php']\n",
      "sitio  http://www.unrc.edu.ar href:  https://www.unrc.edu.ar/unrc/launiversidad/contacto.php\n",
      "encontré http\n"
     ]
    },
    {
     "name": "stderr",
     "output_type": "stream",
     "text": [
      "/home/bibiana/.conda/envs/taw/lib/python3.6/site-packages/urllib3/connectionpool.py:857: InsecureRequestWarning: Unverified HTTPS request is being made. Adding certificate verification is strongly advised. See: https://urllib3.readthedocs.io/en/latest/advanced-usage.html#ssl-warnings\n",
      "  InsecureRequestWarning)\n"
     ]
    },
    {
     "name": "stdout",
     "output_type": "stream",
     "text": [
      "encontré form:  https://www.unrc.edu.ar/unrc/launiversidad/contacto.php\n",
      "{'www.unrc.edu.ar': {'url': 'http://www.unrc.edu.ar', 'title': 'Universidad Nacional de Río Cuarto', 'oferta': 'https://www.unrc.edu.ar/unrc/estudiar/carreras.php', 'formulario': 'https://www.unrc.edu.ar/unrc/launiversidad/contacto.php'}}\n"
     ]
    },
    {
     "name": "stderr",
     "output_type": "stream",
     "text": [
      "/home/bibiana/.conda/envs/taw/lib/python3.6/site-packages/urllib3/connectionpool.py:857: InsecureRequestWarning: Unverified HTTPS request is being made. Adding certificate verification is strongly advised. See: https://urllib3.readthedocs.io/en/latest/advanced-usage.html#ssl-warnings\n",
      "  InsecureRequestWarning)\n",
      "/home/bibiana/.conda/envs/taw/lib/python3.6/site-packages/urllib3/connectionpool.py:857: InsecureRequestWarning: Unverified HTTPS request is being made. Adding certificate verification is strongly advised. See: https://urllib3.readthedocs.io/en/latest/advanced-usage.html#ssl-warnings\n",
      "  InsecureRequestWarning)\n"
     ]
    },
    {
     "name": "stdout",
     "output_type": "stream",
     "text": [
      "webmail.unrc.edu.ar, links: \n",
      "webmail.unrc.edu.ar, oferta académica: \n",
      "[]\n",
      "webmail.unrc.edu.ar, contacto: \n",
      "[]\n",
      "sitio  http://webmail.unrc.edu.ar href:  https://www.unrc.edu.ar/\n",
      "encontré http\n"
     ]
    },
    {
     "name": "stderr",
     "output_type": "stream",
     "text": [
      "/home/bibiana/.conda/envs/taw/lib/python3.6/site-packages/urllib3/connectionpool.py:857: InsecureRequestWarning: Unverified HTTPS request is being made. Adding certificate verification is strongly advised. See: https://urllib3.readthedocs.io/en/latest/advanced-usage.html#ssl-warnings\n",
      "  InsecureRequestWarning)\n"
     ]
    },
    {
     "name": "stdout",
     "output_type": "stream",
     "text": [
      "sitio  http://webmail.unrc.edu.ar href:  https://www.unrc.edu.ar/unrc/uticomunicacion/\n",
      "encontré http\n"
     ]
    },
    {
     "name": "stderr",
     "output_type": "stream",
     "text": [
      "/home/bibiana/.conda/envs/taw/lib/python3.6/site-packages/urllib3/connectionpool.py:857: InsecureRequestWarning: Unverified HTTPS request is being made. Adding certificate verification is strongly advised. See: https://urllib3.readthedocs.io/en/latest/advanced-usage.html#ssl-warnings\n",
      "  InsecureRequestWarning)\n"
     ]
    },
    {
     "name": "stdout",
     "output_type": "stream",
     "text": [
      "{'www.unrc.edu.ar': {'url': 'http://www.unrc.edu.ar', 'title': 'Universidad Nacional de Río Cuarto', 'oferta': 'https://www.unrc.edu.ar/unrc/estudiar/carreras.php', 'formulario': 'https://www.unrc.edu.ar/unrc/launiversidad/contacto.php'}, 'webmail.unrc.edu.ar': {'url': 'http://webmail.unrc.edu.ar', 'title': 'Horde :: WEBMAIL de la UNRC'}}\n"
     ]
    },
    {
     "name": "stderr",
     "output_type": "stream",
     "text": [
      "/home/bibiana/.conda/envs/taw/lib/python3.6/site-packages/urllib3/connectionpool.py:857: InsecureRequestWarning: Unverified HTTPS request is being made. Adding certificate verification is strongly advised. See: https://urllib3.readthedocs.io/en/latest/advanced-usage.html#ssl-warnings\n",
      "  InsecureRequestWarning)\n"
     ]
    },
    {
     "name": "stdout",
     "output_type": "stream",
     "text": [
      "sisinfo.unrc.edu.ar, links: \n",
      "sisinfo.unrc.edu.ar, oferta académica: \n",
      "['https://www.unrc.edu.ar/unrc/estudiar/carreras.php']\n",
      "sitio  http://sisinfo.unrc.edu.ar href:  https://www.unrc.edu.ar/unrc/estudiar/carreras.php\n",
      "encontré http\n",
      "sisinfo.unrc.edu.ar, contacto: \n",
      "['https://www.unrc.edu.ar/unrc/launiversidad/contacto.php', 'https://sisinfo.unrc.edu.ar/entrada2/contacto-ext.php']\n",
      "sitio  http://sisinfo.unrc.edu.ar href:  https://www.unrc.edu.ar/unrc/launiversidad/contacto.php\n",
      "encontré http\n"
     ]
    },
    {
     "name": "stderr",
     "output_type": "stream",
     "text": [
      "/home/bibiana/.conda/envs/taw/lib/python3.6/site-packages/urllib3/connectionpool.py:857: InsecureRequestWarning: Unverified HTTPS request is being made. Adding certificate verification is strongly advised. See: https://urllib3.readthedocs.io/en/latest/advanced-usage.html#ssl-warnings\n",
      "  InsecureRequestWarning)\n"
     ]
    },
    {
     "name": "stdout",
     "output_type": "stream",
     "text": [
      "encontré form:  https://www.unrc.edu.ar/unrc/launiversidad/contacto.php\n",
      "{'www.unrc.edu.ar': {'url': 'http://www.unrc.edu.ar', 'title': 'Universidad Nacional de Río Cuarto', 'oferta': 'https://www.unrc.edu.ar/unrc/estudiar/carreras.php', 'formulario': 'https://www.unrc.edu.ar/unrc/launiversidad/contacto.php'}, 'webmail.unrc.edu.ar': {'url': 'http://webmail.unrc.edu.ar', 'title': 'Horde :: WEBMAIL de la UNRC'}, 'sisinfo.unrc.edu.ar': {'url': 'http://sisinfo.unrc.edu.ar', 'title': 'Universidad Nacional de Río Cuarto', 'oferta': 'https://www.unrc.edu.ar/unrc/estudiar/carreras.php', 'formulario': 'https://www.unrc.edu.ar/unrc/launiversidad/contacto.php'}}\n",
      "www.siat.unrc.edu.ar, links: \n",
      "www.siat.unrc.edu.ar, oferta académica: \n",
      "[]\n",
      "www.siat.unrc.edu.ar, contacto: \n",
      "[]\n",
      "sitio  http://www.siat.unrc.edu.ar href:  http://www.irc.unrc.edu.ar/\n",
      "encontré http\n",
      "encontré form:  http://www.irc.unrc.edu.ar/\n",
      "{'www.unrc.edu.ar': {'url': 'http://www.unrc.edu.ar', 'title': 'Universidad Nacional de Río Cuarto', 'oferta': 'https://www.unrc.edu.ar/unrc/estudiar/carreras.php', 'formulario': 'https://www.unrc.edu.ar/unrc/launiversidad/contacto.php'}, 'webmail.unrc.edu.ar': {'url': 'http://webmail.unrc.edu.ar', 'title': 'Horde :: WEBMAIL de la UNRC'}, 'sisinfo.unrc.edu.ar': {'url': 'http://sisinfo.unrc.edu.ar', 'title': 'Universidad Nacional de Río Cuarto', 'oferta': 'https://www.unrc.edu.ar/unrc/estudiar/carreras.php', 'formulario': 'https://www.unrc.edu.ar/unrc/launiversidad/contacto.php'}, 'www.siat.unrc.edu.ar': {'url': 'http://www.siat.unrc.edu.ar', 'title': 'Campus Virtual SIAT - Universidad Nacional de Río Cuarto', 'formulario': 'http://www.irc.unrc.edu.ar/'}}\n"
     ]
    },
    {
     "name": "stderr",
     "output_type": "stream",
     "text": [
      "/home/bibiana/.conda/envs/taw/lib/python3.6/site-packages/urllib3/connectionpool.py:857: InsecureRequestWarning: Unverified HTTPS request is being made. Adding certificate verification is strongly advised. See: https://urllib3.readthedocs.io/en/latest/advanced-usage.html#ssl-warnings\n",
      "  InsecureRequestWarning)\n"
     ]
    },
    {
     "name": "stdout",
     "output_type": "stream",
     "text": [
      "www.ing.unrc.edu.ar, links: \n",
      "www.ing.unrc.edu.ar, oferta académica: \n",
      "[]\n",
      "www.ing.unrc.edu.ar, contacto: \n",
      "[]\n",
      "sitio  http://www.ing.unrc.edu.ar href:  http://correo.ing.unrc.edu.ar/\n",
      "encontré http\n"
     ]
    },
    {
     "name": "stderr",
     "output_type": "stream",
     "text": [
      "/home/bibiana/.conda/envs/taw/lib/python3.6/site-packages/urllib3/connectionpool.py:857: InsecureRequestWarning: Unverified HTTPS request is being made. Adding certificate verification is strongly advised. See: https://urllib3.readthedocs.io/en/latest/advanced-usage.html#ssl-warnings\n",
      "  InsecureRequestWarning)\n",
      "/home/bibiana/.conda/envs/taw/lib/python3.6/site-packages/urllib3/connectionpool.py:857: InsecureRequestWarning: Unverified HTTPS request is being made. Adding certificate verification is strongly advised. See: https://urllib3.readthedocs.io/en/latest/advanced-usage.html#ssl-warnings\n",
      "  InsecureRequestWarning)\n"
     ]
    },
    {
     "name": "stdout",
     "output_type": "stream",
     "text": [
      "encontré form:  http://correo.ing.unrc.edu.ar/\n",
      "{'www.unrc.edu.ar': {'url': 'http://www.unrc.edu.ar', 'title': 'Universidad Nacional de Río Cuarto', 'oferta': 'https://www.unrc.edu.ar/unrc/estudiar/carreras.php', 'formulario': 'https://www.unrc.edu.ar/unrc/launiversidad/contacto.php'}, 'webmail.unrc.edu.ar': {'url': 'http://webmail.unrc.edu.ar', 'title': 'Horde :: WEBMAIL de la UNRC'}, 'sisinfo.unrc.edu.ar': {'url': 'http://sisinfo.unrc.edu.ar', 'title': 'Universidad Nacional de Río Cuarto', 'oferta': 'https://www.unrc.edu.ar/unrc/estudiar/carreras.php', 'formulario': 'https://www.unrc.edu.ar/unrc/launiversidad/contacto.php'}, 'www.siat.unrc.edu.ar': {'url': 'http://www.siat.unrc.edu.ar', 'title': 'Campus Virtual SIAT - Universidad Nacional de Río Cuarto', 'formulario': 'http://www.irc.unrc.edu.ar/'}, 'www.ing.unrc.edu.ar': {'url': 'http://www.ing.unrc.edu.ar', 'title': 'Facultad de Ingeniería - UNRC', 'formulario': 'http://correo.ing.unrc.edu.ar/'}}\n",
      "{'www.unrc.edu.ar': {'url': 'http://www.unrc.edu.ar', 'title': 'Universidad Nacional de Río Cuarto', 'oferta': 'https://www.unrc.edu.ar/unrc/estudiar/carreras.php', 'formulario': 'https://www.unrc.edu.ar/unrc/launiversidad/contacto.php'}, 'webmail.unrc.edu.ar': {'url': 'http://webmail.unrc.edu.ar', 'title': 'Horde :: WEBMAIL de la UNRC'}, 'sisinfo.unrc.edu.ar': {'url': 'http://sisinfo.unrc.edu.ar', 'title': 'Universidad Nacional de Río Cuarto', 'oferta': 'https://www.unrc.edu.ar/unrc/estudiar/carreras.php', 'formulario': 'https://www.unrc.edu.ar/unrc/launiversidad/contacto.php'}, 'www.siat.unrc.edu.ar': {'url': 'http://www.siat.unrc.edu.ar', 'title': 'Campus Virtual SIAT - Universidad Nacional de Río Cuarto', 'formulario': 'http://www.irc.unrc.edu.ar/'}, 'www.ing.unrc.edu.ar': {'url': 'http://www.ing.unrc.edu.ar', 'title': 'Facultad de Ingeniería - UNRC', 'formulario': 'http://correo.ing.unrc.edu.ar/'}, 'gma.ing.unrc.edu.ar': {'url': 'http://gma.ing.unrc.edu.ar', 'title': 'página no disponible'}}\n",
      "www.irc.unrc.edu.ar, links: \n",
      "www.irc.unrc.edu.ar, oferta académica: \n",
      "[]\n",
      "www.irc.unrc.edu.ar, contacto: \n",
      "[]\n",
      "sitio  http://www.irc.unrc.edu.ar href:  http://www.irc.unrc.edu.ar/\n",
      "encontré http\n",
      "encontré form:  http://www.irc.unrc.edu.ar/\n",
      "{'www.unrc.edu.ar': {'url': 'http://www.unrc.edu.ar', 'title': 'Universidad Nacional de Río Cuarto', 'oferta': 'https://www.unrc.edu.ar/unrc/estudiar/carreras.php', 'formulario': 'https://www.unrc.edu.ar/unrc/launiversidad/contacto.php'}, 'webmail.unrc.edu.ar': {'url': 'http://webmail.unrc.edu.ar', 'title': 'Horde :: WEBMAIL de la UNRC'}, 'sisinfo.unrc.edu.ar': {'url': 'http://sisinfo.unrc.edu.ar', 'title': 'Universidad Nacional de Río Cuarto', 'oferta': 'https://www.unrc.edu.ar/unrc/estudiar/carreras.php', 'formulario': 'https://www.unrc.edu.ar/unrc/launiversidad/contacto.php'}, 'www.siat.unrc.edu.ar': {'url': 'http://www.siat.unrc.edu.ar', 'title': 'Campus Virtual SIAT - Universidad Nacional de Río Cuarto', 'formulario': 'http://www.irc.unrc.edu.ar/'}, 'www.ing.unrc.edu.ar': {'url': 'http://www.ing.unrc.edu.ar', 'title': 'Facultad de Ingeniería - UNRC', 'formulario': 'http://correo.ing.unrc.edu.ar/'}, 'gma.ing.unrc.edu.ar': {'url': 'http://gma.ing.unrc.edu.ar', 'title': 'página no disponible'}, 'www.irc.unrc.edu.ar': {'url': 'http://www.irc.unrc.edu.ar', 'title': 'Secretaría de Extensión y Desarrollo UNRC – Centro de Capacitación y Desarrollo de Tecnologías de la Información y Comunicación', 'formulario': 'http://www.irc.unrc.edu.ar/'}}\n",
      "juanfilloy.bib.unrc.edu.ar, links: \n",
      "juanfilloy.bib.unrc.edu.ar, oferta académica: \n",
      "[]\n",
      "juanfilloy.bib.unrc.edu.ar, contacto: \n",
      "[]\n",
      "sitio  http://juanfilloy.bib.unrc.edu.ar href:  http://www.unrc.edu.ar/\n",
      "encontré http\n"
     ]
    },
    {
     "name": "stderr",
     "output_type": "stream",
     "text": [
      "/home/bibiana/.conda/envs/taw/lib/python3.6/site-packages/urllib3/connectionpool.py:857: InsecureRequestWarning: Unverified HTTPS request is being made. Adding certificate verification is strongly advised. See: https://urllib3.readthedocs.io/en/latest/advanced-usage.html#ssl-warnings\n",
      "  InsecureRequestWarning)\n"
     ]
    },
    {
     "name": "stdout",
     "output_type": "stream",
     "text": [
      "sitio  http://juanfilloy.bib.unrc.edu.ar href:  http://juanfilloy.bib.unrc.edu.ar/adquisicion/php/pedidolibro-listado.php?fac=2\n",
      "encontré http\n",
      "encontré form:  http://juanfilloy.bib.unrc.edu.ar/adquisicion/php/pedidolibro-listado.php?fac=2\n",
      "{'www.unrc.edu.ar': {'url': 'http://www.unrc.edu.ar', 'title': 'Universidad Nacional de Río Cuarto', 'oferta': 'https://www.unrc.edu.ar/unrc/estudiar/carreras.php', 'formulario': 'https://www.unrc.edu.ar/unrc/launiversidad/contacto.php'}, 'webmail.unrc.edu.ar': {'url': 'http://webmail.unrc.edu.ar', 'title': 'Horde :: WEBMAIL de la UNRC'}, 'sisinfo.unrc.edu.ar': {'url': 'http://sisinfo.unrc.edu.ar', 'title': 'Universidad Nacional de Río Cuarto', 'oferta': 'https://www.unrc.edu.ar/unrc/estudiar/carreras.php', 'formulario': 'https://www.unrc.edu.ar/unrc/launiversidad/contacto.php'}, 'www.siat.unrc.edu.ar': {'url': 'http://www.siat.unrc.edu.ar', 'title': 'Campus Virtual SIAT - Universidad Nacional de Río Cuarto', 'formulario': 'http://www.irc.unrc.edu.ar/'}, 'www.ing.unrc.edu.ar': {'url': 'http://www.ing.unrc.edu.ar', 'title': 'Facultad de Ingeniería - UNRC', 'formulario': 'http://correo.ing.unrc.edu.ar/'}, 'gma.ing.unrc.edu.ar': {'url': 'http://gma.ing.unrc.edu.ar', 'title': 'página no disponible'}, 'www.irc.unrc.edu.ar': {'url': 'http://www.irc.unrc.edu.ar', 'title': 'Secretaría de Extensión y Desarrollo UNRC – Centro de Capacitación y Desarrollo de Tecnologías de la Información y Comunicación', 'formulario': 'http://www.irc.unrc.edu.ar/'}, 'juanfilloy.bib.unrc.edu.ar': {'url': 'http://juanfilloy.bib.unrc.edu.ar', 'title': 'Biblioteca Central - Juan Filloy', 'formulario': 'http://juanfilloy.bib.unrc.edu.ar/adquisicion/php/pedidolibro-listado.php?fac=2'}}\n",
      "www.hum.unrc.edu.ar, links: \n",
      "www.hum.unrc.edu.ar, oferta académica: \n",
      "['http://www.hum.unrc.edu.ar/oferta-academica-de-grado-2/', 'http://www.hum.unrc.edu.ar/oferta-academica-de-posgrado/', 'http://www.hum.unrc.edu.ar/carreras-de-posgrado-2/', 'http://www.hum.unrc.edu.ar/carreras-de-posgrado-2/doctorado-en-ciencias-sociales/', 'http://www.hum.unrc.edu.ar/carreras-de-posgrado-2/maestria-en-ingles/', 'http://www.hum.unrc.edu.ar/oferta-academica-de-posgrado/resoluciones/']\n",
      "sitio  http://www.hum.unrc.edu.ar href:  http://www.hum.unrc.edu.ar/oferta-academica-de-grado-2/\n",
      "encontré http\n",
      "www.hum.unrc.edu.ar, contacto: \n",
      "[]\n",
      "sitio  http://www.hum.unrc.edu.ar href:  http://www.hum.unrc.edu.ar/\n",
      "encontré http\n",
      "encontré form:  http://www.hum.unrc.edu.ar/\n",
      "{'www.unrc.edu.ar': {'url': 'http://www.unrc.edu.ar', 'title': 'Universidad Nacional de Río Cuarto', 'oferta': 'https://www.unrc.edu.ar/unrc/estudiar/carreras.php', 'formulario': 'https://www.unrc.edu.ar/unrc/launiversidad/contacto.php'}, 'webmail.unrc.edu.ar': {'url': 'http://webmail.unrc.edu.ar', 'title': 'Horde :: WEBMAIL de la UNRC'}, 'sisinfo.unrc.edu.ar': {'url': 'http://sisinfo.unrc.edu.ar', 'title': 'Universidad Nacional de Río Cuarto', 'oferta': 'https://www.unrc.edu.ar/unrc/estudiar/carreras.php', 'formulario': 'https://www.unrc.edu.ar/unrc/launiversidad/contacto.php'}, 'www.siat.unrc.edu.ar': {'url': 'http://www.siat.unrc.edu.ar', 'title': 'Campus Virtual SIAT - Universidad Nacional de Río Cuarto', 'formulario': 'http://www.irc.unrc.edu.ar/'}, 'www.ing.unrc.edu.ar': {'url': 'http://www.ing.unrc.edu.ar', 'title': 'Facultad de Ingeniería - UNRC', 'formulario': 'http://correo.ing.unrc.edu.ar/'}, 'gma.ing.unrc.edu.ar': {'url': 'http://gma.ing.unrc.edu.ar', 'title': 'página no disponible'}, 'www.irc.unrc.edu.ar': {'url': 'http://www.irc.unrc.edu.ar', 'title': 'Secretaría de Extensión y Desarrollo UNRC – Centro de Capacitación y Desarrollo de Tecnologías de la Información y Comunicación', 'formulario': 'http://www.irc.unrc.edu.ar/'}, 'juanfilloy.bib.unrc.edu.ar': {'url': 'http://juanfilloy.bib.unrc.edu.ar', 'title': 'Biblioteca Central - Juan Filloy', 'formulario': 'http://juanfilloy.bib.unrc.edu.ar/adquisicion/php/pedidolibro-listado.php?fac=2'}, 'www.hum.unrc.edu.ar': {'url': 'http://www.hum.unrc.edu.ar', 'title': 'Facultad de Ciencias Humanas | UNIVERSIDAD NACIONAL DE RÍO CUARTO. ', 'oferta': 'http://www.hum.unrc.edu.ar/oferta-academica-de-grado-2/', 'formulario': 'http://www.hum.unrc.edu.ar/'}}\n"
     ]
    },
    {
     "name": "stderr",
     "output_type": "stream",
     "text": [
      "/home/bibiana/.conda/envs/taw/lib/python3.6/site-packages/urllib3/connectionpool.py:857: InsecureRequestWarning: Unverified HTTPS request is being made. Adding certificate verification is strongly advised. See: https://urllib3.readthedocs.io/en/latest/advanced-usage.html#ssl-warnings\n",
      "  InsecureRequestWarning)\n"
     ]
    },
    {
     "name": "stdout",
     "output_type": "stream",
     "text": [
      "www.eco.unrc.edu.ar, links: \n",
      "www.eco.unrc.edu.ar, oferta académica: \n",
      "[]\n",
      "www.eco.unrc.edu.ar, contacto: \n",
      "[]\n",
      "{'www.unrc.edu.ar': {'url': 'http://www.unrc.edu.ar', 'title': 'Universidad Nacional de Río Cuarto', 'oferta': 'https://www.unrc.edu.ar/unrc/estudiar/carreras.php', 'formulario': 'https://www.unrc.edu.ar/unrc/launiversidad/contacto.php'}, 'webmail.unrc.edu.ar': {'url': 'http://webmail.unrc.edu.ar', 'title': 'Horde :: WEBMAIL de la UNRC'}, 'sisinfo.unrc.edu.ar': {'url': 'http://sisinfo.unrc.edu.ar', 'title': 'Universidad Nacional de Río Cuarto', 'oferta': 'https://www.unrc.edu.ar/unrc/estudiar/carreras.php', 'formulario': 'https://www.unrc.edu.ar/unrc/launiversidad/contacto.php'}, 'www.siat.unrc.edu.ar': {'url': 'http://www.siat.unrc.edu.ar', 'title': 'Campus Virtual SIAT - Universidad Nacional de Río Cuarto', 'formulario': 'http://www.irc.unrc.edu.ar/'}, 'www.ing.unrc.edu.ar': {'url': 'http://www.ing.unrc.edu.ar', 'title': 'Facultad de Ingeniería - UNRC', 'formulario': 'http://correo.ing.unrc.edu.ar/'}, 'gma.ing.unrc.edu.ar': {'url': 'http://gma.ing.unrc.edu.ar', 'title': 'página no disponible'}, 'www.irc.unrc.edu.ar': {'url': 'http://www.irc.unrc.edu.ar', 'title': 'Secretaría de Extensión y Desarrollo UNRC – Centro de Capacitación y Desarrollo de Tecnologías de la Información y Comunicación', 'formulario': 'http://www.irc.unrc.edu.ar/'}, 'juanfilloy.bib.unrc.edu.ar': {'url': 'http://juanfilloy.bib.unrc.edu.ar', 'title': 'Biblioteca Central - Juan Filloy', 'formulario': 'http://juanfilloy.bib.unrc.edu.ar/adquisicion/php/pedidolibro-listado.php?fac=2'}, 'www.hum.unrc.edu.ar': {'url': 'http://www.hum.unrc.edu.ar', 'title': 'Facultad de Ciencias Humanas | UNIVERSIDAD NACIONAL DE RÍO CUARTO. ', 'oferta': 'http://www.hum.unrc.edu.ar/oferta-academica-de-grado-2/', 'formulario': 'http://www.hum.unrc.edu.ar/'}, 'www.eco.unrc.edu.ar': {'url': 'http://www.eco.unrc.edu.ar', 'title': 'FCE'}}\n"
     ]
    },
    {
     "name": "stderr",
     "output_type": "stream",
     "text": [
      "/home/bibiana/.conda/envs/taw/lib/python3.6/site-packages/urllib3/connectionpool.py:857: InsecureRequestWarning: Unverified HTTPS request is being made. Adding certificate verification is strongly advised. See: https://urllib3.readthedocs.io/en/latest/advanced-usage.html#ssl-warnings\n",
      "  InsecureRequestWarning)\n"
     ]
    },
    {
     "name": "stdout",
     "output_type": "stream",
     "text": [
      "app2.eco.unrc.edu.ar, links: \n",
      "app2.eco.unrc.edu.ar, oferta académica: \n",
      "[]\n",
      "app2.eco.unrc.edu.ar, contacto: \n",
      "[]\n",
      "sitio  http://app2.eco.unrc.edu.ar href:  https://app2.eco.unrc.edu.ar\n",
      "encontré http\n"
     ]
    },
    {
     "name": "stderr",
     "output_type": "stream",
     "text": [
      "/home/bibiana/.conda/envs/taw/lib/python3.6/site-packages/urllib3/connectionpool.py:857: InsecureRequestWarning: Unverified HTTPS request is being made. Adding certificate verification is strongly advised. See: https://urllib3.readthedocs.io/en/latest/advanced-usage.html#ssl-warnings\n",
      "  InsecureRequestWarning)\n"
     ]
    },
    {
     "name": "stdout",
     "output_type": "stream",
     "text": [
      "sitio  http://app2.eco.unrc.edu.ar href:  https://app2.eco.unrc.edu.ar/home\n",
      "encontré http\n"
     ]
    },
    {
     "name": "stderr",
     "output_type": "stream",
     "text": [
      "/home/bibiana/.conda/envs/taw/lib/python3.6/site-packages/urllib3/connectionpool.py:857: InsecureRequestWarning: Unverified HTTPS request is being made. Adding certificate verification is strongly advised. See: https://urllib3.readthedocs.io/en/latest/advanced-usage.html#ssl-warnings\n",
      "  InsecureRequestWarning)\n",
      "/home/bibiana/.conda/envs/taw/lib/python3.6/site-packages/urllib3/connectionpool.py:857: InsecureRequestWarning: Unverified HTTPS request is being made. Adding certificate verification is strongly advised. See: https://urllib3.readthedocs.io/en/latest/advanced-usage.html#ssl-warnings\n",
      "  InsecureRequestWarning)\n"
     ]
    },
    {
     "name": "stdout",
     "output_type": "stream",
     "text": [
      "encontré form:  https://app2.eco.unrc.edu.ar/home\n",
      "{'www.unrc.edu.ar': {'url': 'http://www.unrc.edu.ar', 'title': 'Universidad Nacional de Río Cuarto', 'oferta': 'https://www.unrc.edu.ar/unrc/estudiar/carreras.php', 'formulario': 'https://www.unrc.edu.ar/unrc/launiversidad/contacto.php'}, 'webmail.unrc.edu.ar': {'url': 'http://webmail.unrc.edu.ar', 'title': 'Horde :: WEBMAIL de la UNRC'}, 'sisinfo.unrc.edu.ar': {'url': 'http://sisinfo.unrc.edu.ar', 'title': 'Universidad Nacional de Río Cuarto', 'oferta': 'https://www.unrc.edu.ar/unrc/estudiar/carreras.php', 'formulario': 'https://www.unrc.edu.ar/unrc/launiversidad/contacto.php'}, 'www.siat.unrc.edu.ar': {'url': 'http://www.siat.unrc.edu.ar', 'title': 'Campus Virtual SIAT - Universidad Nacional de Río Cuarto', 'formulario': 'http://www.irc.unrc.edu.ar/'}, 'www.ing.unrc.edu.ar': {'url': 'http://www.ing.unrc.edu.ar', 'title': 'Facultad de Ingeniería - UNRC', 'formulario': 'http://correo.ing.unrc.edu.ar/'}, 'gma.ing.unrc.edu.ar': {'url': 'http://gma.ing.unrc.edu.ar', 'title': 'página no disponible'}, 'www.irc.unrc.edu.ar': {'url': 'http://www.irc.unrc.edu.ar', 'title': 'Secretaría de Extensión y Desarrollo UNRC – Centro de Capacitación y Desarrollo de Tecnologías de la Información y Comunicación', 'formulario': 'http://www.irc.unrc.edu.ar/'}, 'juanfilloy.bib.unrc.edu.ar': {'url': 'http://juanfilloy.bib.unrc.edu.ar', 'title': 'Biblioteca Central - Juan Filloy', 'formulario': 'http://juanfilloy.bib.unrc.edu.ar/adquisicion/php/pedidolibro-listado.php?fac=2'}, 'www.hum.unrc.edu.ar': {'url': 'http://www.hum.unrc.edu.ar', 'title': 'Facultad de Ciencias Humanas | UNIVERSIDAD NACIONAL DE RÍO CUARTO. ', 'oferta': 'http://www.hum.unrc.edu.ar/oferta-academica-de-grado-2/', 'formulario': 'http://www.hum.unrc.edu.ar/'}, 'www.eco.unrc.edu.ar': {'url': 'http://www.eco.unrc.edu.ar', 'title': 'FCE'}, 'app2.eco.unrc.edu.ar': {'url': 'http://app2.eco.unrc.edu.ar', 'title': 'Encuesta Docente', 'formulario': 'https://app2.eco.unrc.edu.ar/home'}}\n"
     ]
    },
    {
     "name": "stderr",
     "output_type": "stream",
     "text": [
      "/home/bibiana/.conda/envs/taw/lib/python3.6/site-packages/urllib3/connectionpool.py:857: InsecureRequestWarning: Unverified HTTPS request is being made. Adding certificate verification is strongly advised. See: https://urllib3.readthedocs.io/en/latest/advanced-usage.html#ssl-warnings\n",
      "  InsecureRequestWarning)\n"
     ]
    },
    {
     "name": "stdout",
     "output_type": "stream",
     "text": [
      "www.fce.unrc.edu.ar, links: \n",
      "www.fce.unrc.edu.ar, oferta académica: \n",
      "[]\n",
      "www.fce.unrc.edu.ar, contacto: \n",
      "['https://www.fce.unrc.edu.ar/contacto/']\n",
      "sitio  http://www.fce.unrc.edu.ar href:  https://www.fce.unrc.edu.ar/contacto/\n",
      "encontré http\n"
     ]
    },
    {
     "name": "stderr",
     "output_type": "stream",
     "text": [
      "/home/bibiana/.conda/envs/taw/lib/python3.6/site-packages/urllib3/connectionpool.py:857: InsecureRequestWarning: Unverified HTTPS request is being made. Adding certificate verification is strongly advised. See: https://urllib3.readthedocs.io/en/latest/advanced-usage.html#ssl-warnings\n",
      "  InsecureRequestWarning)\n"
     ]
    },
    {
     "name": "stdout",
     "output_type": "stream",
     "text": [
      "encontré form:  https://www.fce.unrc.edu.ar/contacto/\n",
      "{'www.unrc.edu.ar': {'url': 'http://www.unrc.edu.ar', 'title': 'Universidad Nacional de Río Cuarto', 'oferta': 'https://www.unrc.edu.ar/unrc/estudiar/carreras.php', 'formulario': 'https://www.unrc.edu.ar/unrc/launiversidad/contacto.php'}, 'webmail.unrc.edu.ar': {'url': 'http://webmail.unrc.edu.ar', 'title': 'Horde :: WEBMAIL de la UNRC'}, 'sisinfo.unrc.edu.ar': {'url': 'http://sisinfo.unrc.edu.ar', 'title': 'Universidad Nacional de Río Cuarto', 'oferta': 'https://www.unrc.edu.ar/unrc/estudiar/carreras.php', 'formulario': 'https://www.unrc.edu.ar/unrc/launiversidad/contacto.php'}, 'www.siat.unrc.edu.ar': {'url': 'http://www.siat.unrc.edu.ar', 'title': 'Campus Virtual SIAT - Universidad Nacional de Río Cuarto', 'formulario': 'http://www.irc.unrc.edu.ar/'}, 'www.ing.unrc.edu.ar': {'url': 'http://www.ing.unrc.edu.ar', 'title': 'Facultad de Ingeniería - UNRC', 'formulario': 'http://correo.ing.unrc.edu.ar/'}, 'gma.ing.unrc.edu.ar': {'url': 'http://gma.ing.unrc.edu.ar', 'title': 'página no disponible'}, 'www.irc.unrc.edu.ar': {'url': 'http://www.irc.unrc.edu.ar', 'title': 'Secretaría de Extensión y Desarrollo UNRC – Centro de Capacitación y Desarrollo de Tecnologías de la Información y Comunicación', 'formulario': 'http://www.irc.unrc.edu.ar/'}, 'juanfilloy.bib.unrc.edu.ar': {'url': 'http://juanfilloy.bib.unrc.edu.ar', 'title': 'Biblioteca Central - Juan Filloy', 'formulario': 'http://juanfilloy.bib.unrc.edu.ar/adquisicion/php/pedidolibro-listado.php?fac=2'}, 'www.hum.unrc.edu.ar': {'url': 'http://www.hum.unrc.edu.ar', 'title': 'Facultad de Ciencias Humanas | UNIVERSIDAD NACIONAL DE RÍO CUARTO. ', 'oferta': 'http://www.hum.unrc.edu.ar/oferta-academica-de-grado-2/', 'formulario': 'http://www.hum.unrc.edu.ar/'}, 'www.eco.unrc.edu.ar': {'url': 'http://www.eco.unrc.edu.ar', 'title': 'FCE'}, 'app2.eco.unrc.edu.ar': {'url': 'http://app2.eco.unrc.edu.ar', 'title': 'Encuesta Docente', 'formulario': 'https://app2.eco.unrc.edu.ar/home'}, 'www.fce.unrc.edu.ar': {'url': 'http://www.fce.unrc.edu.ar', 'title': 'Facultad de Ciencias Economicas – Servicios Informaticos', 'formulario': 'https://www.fce.unrc.edu.ar/contacto/'}}\n",
      "revista.eco.unrc.edu.ar, links: \n",
      "revista.eco.unrc.edu.ar, oferta académica: \n",
      "[]\n",
      "revista.eco.unrc.edu.ar, contacto: \n",
      "[]\n",
      "sitio  http://revista.eco.unrc.edu.ar href:  javascript:openHelp('http://revista.eco.unrc.edu.ar/index.php/fundamentos/help/view/user/topic/000001')\n",
      "encontré http\n",
      "{'www.unrc.edu.ar': {'url': 'http://www.unrc.edu.ar', 'title': 'Universidad Nacional de Río Cuarto', 'oferta': 'https://www.unrc.edu.ar/unrc/estudiar/carreras.php', 'formulario': 'https://www.unrc.edu.ar/unrc/launiversidad/contacto.php'}, 'webmail.unrc.edu.ar': {'url': 'http://webmail.unrc.edu.ar', 'title': 'Horde :: WEBMAIL de la UNRC'}, 'sisinfo.unrc.edu.ar': {'url': 'http://sisinfo.unrc.edu.ar', 'title': 'Universidad Nacional de Río Cuarto', 'oferta': 'https://www.unrc.edu.ar/unrc/estudiar/carreras.php', 'formulario': 'https://www.unrc.edu.ar/unrc/launiversidad/contacto.php'}, 'www.siat.unrc.edu.ar': {'url': 'http://www.siat.unrc.edu.ar', 'title': 'Campus Virtual SIAT - Universidad Nacional de Río Cuarto', 'formulario': 'http://www.irc.unrc.edu.ar/'}, 'www.ing.unrc.edu.ar': {'url': 'http://www.ing.unrc.edu.ar', 'title': 'Facultad de Ingeniería - UNRC', 'formulario': 'http://correo.ing.unrc.edu.ar/'}, 'gma.ing.unrc.edu.ar': {'url': 'http://gma.ing.unrc.edu.ar', 'title': 'página no disponible'}, 'www.irc.unrc.edu.ar': {'url': 'http://www.irc.unrc.edu.ar', 'title': 'Secretaría de Extensión y Desarrollo UNRC – Centro de Capacitación y Desarrollo de Tecnologías de la Información y Comunicación', 'formulario': 'http://www.irc.unrc.edu.ar/'}, 'juanfilloy.bib.unrc.edu.ar': {'url': 'http://juanfilloy.bib.unrc.edu.ar', 'title': 'Biblioteca Central - Juan Filloy', 'formulario': 'http://juanfilloy.bib.unrc.edu.ar/adquisicion/php/pedidolibro-listado.php?fac=2'}, 'www.hum.unrc.edu.ar': {'url': 'http://www.hum.unrc.edu.ar', 'title': 'Facultad de Ciencias Humanas | UNIVERSIDAD NACIONAL DE RÍO CUARTO. ', 'oferta': 'http://www.hum.unrc.edu.ar/oferta-academica-de-grado-2/', 'formulario': 'http://www.hum.unrc.edu.ar/'}, 'www.eco.unrc.edu.ar': {'url': 'http://www.eco.unrc.edu.ar', 'title': 'FCE'}, 'app2.eco.unrc.edu.ar': {'url': 'http://app2.eco.unrc.edu.ar', 'title': 'Encuesta Docente', 'formulario': 'https://app2.eco.unrc.edu.ar/home'}, 'www.fce.unrc.edu.ar': {'url': 'http://www.fce.unrc.edu.ar', 'title': 'Facultad de Ciencias Economicas – Servicios Informaticos', 'formulario': 'https://www.fce.unrc.edu.ar/contacto/'}, 'revista.eco.unrc.edu.ar': {'url': 'http://revista.eco.unrc.edu.ar', 'title': 'página no disponible'}}\n"
     ]
    },
    {
     "name": "stderr",
     "output_type": "stream",
     "text": [
      "/home/bibiana/.conda/envs/taw/lib/python3.6/site-packages/urllib3/connectionpool.py:857: InsecureRequestWarning: Unverified HTTPS request is being made. Adding certificate verification is strongly advised. See: https://urllib3.readthedocs.io/en/latest/advanced-usage.html#ssl-warnings\n",
      "  InsecureRequestWarning)\n"
     ]
    },
    {
     "name": "stdout",
     "output_type": "stream",
     "text": [
      "www.extension.unrc.edu.ar, links: \n",
      "www.extension.unrc.edu.ar, oferta académica: \n",
      "[]\n",
      "www.extension.unrc.edu.ar, contacto: \n",
      "[]\n",
      "{'www.unrc.edu.ar': {'url': 'http://www.unrc.edu.ar', 'title': 'Universidad Nacional de Río Cuarto', 'oferta': 'https://www.unrc.edu.ar/unrc/estudiar/carreras.php', 'formulario': 'https://www.unrc.edu.ar/unrc/launiversidad/contacto.php'}, 'webmail.unrc.edu.ar': {'url': 'http://webmail.unrc.edu.ar', 'title': 'Horde :: WEBMAIL de la UNRC'}, 'sisinfo.unrc.edu.ar': {'url': 'http://sisinfo.unrc.edu.ar', 'title': 'Universidad Nacional de Río Cuarto', 'oferta': 'https://www.unrc.edu.ar/unrc/estudiar/carreras.php', 'formulario': 'https://www.unrc.edu.ar/unrc/launiversidad/contacto.php'}, 'www.siat.unrc.edu.ar': {'url': 'http://www.siat.unrc.edu.ar', 'title': 'Campus Virtual SIAT - Universidad Nacional de Río Cuarto', 'formulario': 'http://www.irc.unrc.edu.ar/'}, 'www.ing.unrc.edu.ar': {'url': 'http://www.ing.unrc.edu.ar', 'title': 'Facultad de Ingeniería - UNRC', 'formulario': 'http://correo.ing.unrc.edu.ar/'}, 'gma.ing.unrc.edu.ar': {'url': 'http://gma.ing.unrc.edu.ar', 'title': 'página no disponible'}, 'www.irc.unrc.edu.ar': {'url': 'http://www.irc.unrc.edu.ar', 'title': 'Secretaría de Extensión y Desarrollo UNRC – Centro de Capacitación y Desarrollo de Tecnologías de la Información y Comunicación', 'formulario': 'http://www.irc.unrc.edu.ar/'}, 'juanfilloy.bib.unrc.edu.ar': {'url': 'http://juanfilloy.bib.unrc.edu.ar', 'title': 'Biblioteca Central - Juan Filloy', 'formulario': 'http://juanfilloy.bib.unrc.edu.ar/adquisicion/php/pedidolibro-listado.php?fac=2'}, 'www.hum.unrc.edu.ar': {'url': 'http://www.hum.unrc.edu.ar', 'title': 'Facultad de Ciencias Humanas | UNIVERSIDAD NACIONAL DE RÍO CUARTO. ', 'oferta': 'http://www.hum.unrc.edu.ar/oferta-academica-de-grado-2/', 'formulario': 'http://www.hum.unrc.edu.ar/'}, 'www.eco.unrc.edu.ar': {'url': 'http://www.eco.unrc.edu.ar', 'title': 'FCE'}, 'app2.eco.unrc.edu.ar': {'url': 'http://app2.eco.unrc.edu.ar', 'title': 'Encuesta Docente', 'formulario': 'https://app2.eco.unrc.edu.ar/home'}, 'www.fce.unrc.edu.ar': {'url': 'http://www.fce.unrc.edu.ar', 'title': 'Facultad de Ciencias Economicas – Servicios Informaticos', 'formulario': 'https://www.fce.unrc.edu.ar/contacto/'}, 'revista.eco.unrc.edu.ar': {'url': 'http://revista.eco.unrc.edu.ar', 'title': 'página no disponible'}, 'www.extension.unrc.edu.ar': {'url': 'http://www.extension.unrc.edu.ar', 'title': 'Untitled Document'}}\n",
      "cepeiper.unrc.edu.ar, links: \n",
      "cepeiper.unrc.edu.ar, oferta académica: \n",
      "['https://cepeiper.unrc.edu.ar/?project=mediacion-de-materiales-para-carreras-a-distancia-de-la-facultad-ciencias-economicas', 'https://cepeiper.unrc.edu.ar/?project=mediacion-de-materiales-para-carreras-a-distancia-de-la-facultad-ciencias-economicas']\n",
      "sitio  http://cepeiper.unrc.edu.ar href:  https://cepeiper.unrc.edu.ar/?project=mediacion-de-materiales-para-carreras-a-distancia-de-la-facultad-ciencias-economicas\n",
      "encontré http\n",
      "cepeiper.unrc.edu.ar, contacto: \n",
      "[]\n",
      "sitio  http://cepeiper.unrc.edu.ar href:  https://cepeiper.unrc.edu.ar/\n",
      "encontré http\n"
     ]
    },
    {
     "name": "stderr",
     "output_type": "stream",
     "text": [
      "/home/bibiana/.conda/envs/taw/lib/python3.6/site-packages/urllib3/connectionpool.py:857: InsecureRequestWarning: Unverified HTTPS request is being made. Adding certificate verification is strongly advised. See: https://urllib3.readthedocs.io/en/latest/advanced-usage.html#ssl-warnings\n",
      "  InsecureRequestWarning)\n"
     ]
    },
    {
     "name": "stdout",
     "output_type": "stream",
     "text": [
      "encontré form:  https://cepeiper.unrc.edu.ar/\n",
      "{'www.unrc.edu.ar': {'url': 'http://www.unrc.edu.ar', 'title': 'Universidad Nacional de Río Cuarto', 'oferta': 'https://www.unrc.edu.ar/unrc/estudiar/carreras.php', 'formulario': 'https://www.unrc.edu.ar/unrc/launiversidad/contacto.php'}, 'webmail.unrc.edu.ar': {'url': 'http://webmail.unrc.edu.ar', 'title': 'Horde :: WEBMAIL de la UNRC'}, 'sisinfo.unrc.edu.ar': {'url': 'http://sisinfo.unrc.edu.ar', 'title': 'Universidad Nacional de Río Cuarto', 'oferta': 'https://www.unrc.edu.ar/unrc/estudiar/carreras.php', 'formulario': 'https://www.unrc.edu.ar/unrc/launiversidad/contacto.php'}, 'www.siat.unrc.edu.ar': {'url': 'http://www.siat.unrc.edu.ar', 'title': 'Campus Virtual SIAT - Universidad Nacional de Río Cuarto', 'formulario': 'http://www.irc.unrc.edu.ar/'}, 'www.ing.unrc.edu.ar': {'url': 'http://www.ing.unrc.edu.ar', 'title': 'Facultad de Ingeniería - UNRC', 'formulario': 'http://correo.ing.unrc.edu.ar/'}, 'gma.ing.unrc.edu.ar': {'url': 'http://gma.ing.unrc.edu.ar', 'title': 'página no disponible'}, 'www.irc.unrc.edu.ar': {'url': 'http://www.irc.unrc.edu.ar', 'title': 'Secretaría de Extensión y Desarrollo UNRC – Centro de Capacitación y Desarrollo de Tecnologías de la Información y Comunicación', 'formulario': 'http://www.irc.unrc.edu.ar/'}, 'juanfilloy.bib.unrc.edu.ar': {'url': 'http://juanfilloy.bib.unrc.edu.ar', 'title': 'Biblioteca Central - Juan Filloy', 'formulario': 'http://juanfilloy.bib.unrc.edu.ar/adquisicion/php/pedidolibro-listado.php?fac=2'}, 'www.hum.unrc.edu.ar': {'url': 'http://www.hum.unrc.edu.ar', 'title': 'Facultad de Ciencias Humanas | UNIVERSIDAD NACIONAL DE RÍO CUARTO. ', 'oferta': 'http://www.hum.unrc.edu.ar/oferta-academica-de-grado-2/', 'formulario': 'http://www.hum.unrc.edu.ar/'}, 'www.eco.unrc.edu.ar': {'url': 'http://www.eco.unrc.edu.ar', 'title': 'FCE'}, 'app2.eco.unrc.edu.ar': {'url': 'http://app2.eco.unrc.edu.ar', 'title': 'Encuesta Docente', 'formulario': 'https://app2.eco.unrc.edu.ar/home'}, 'www.fce.unrc.edu.ar': {'url': 'http://www.fce.unrc.edu.ar', 'title': 'Facultad de Ciencias Economicas – Servicios Informaticos', 'formulario': 'https://www.fce.unrc.edu.ar/contacto/'}, 'revista.eco.unrc.edu.ar': {'url': 'http://revista.eco.unrc.edu.ar', 'title': 'página no disponible'}, 'www.extension.unrc.edu.ar': {'url': 'http://www.extension.unrc.edu.ar', 'title': 'Untitled Document'}, 'cepeiper.unrc.edu.ar': {'url': 'http://cepeiper.unrc.edu.ar', 'title': 'Tecnología Educativa - Universidad Nacional de Río Cuarto', 'oferta': 'https://cepeiper.unrc.edu.ar/?project=mediacion-de-materiales-para-carreras-a-distancia-de-la-facultad-ciencias-economicas', 'formulario': 'https://cepeiper.unrc.edu.ar/'}}\n",
      "www.edutec.unrc.edu.ar, links: \n",
      "www.edutec.unrc.edu.ar, oferta académica: \n",
      "['https://cepeiper.unrc.edu.ar/?project=mediacion-de-materiales-para-carreras-a-distancia-de-la-facultad-ciencias-economicas', 'https://cepeiper.unrc.edu.ar/?project=mediacion-de-materiales-para-carreras-a-distancia-de-la-facultad-ciencias-economicas']\n",
      "sitio  http://www.edutec.unrc.edu.ar href:  https://cepeiper.unrc.edu.ar/?project=mediacion-de-materiales-para-carreras-a-distancia-de-la-facultad-ciencias-economicas\n",
      "encontré http\n",
      "www.edutec.unrc.edu.ar, contacto: \n",
      "[]\n",
      "sitio  http://www.edutec.unrc.edu.ar href:  https://cepeiper.unrc.edu.ar/\n",
      "encontré http\n"
     ]
    },
    {
     "name": "stderr",
     "output_type": "stream",
     "text": [
      "/home/bibiana/.conda/envs/taw/lib/python3.6/site-packages/urllib3/connectionpool.py:857: InsecureRequestWarning: Unverified HTTPS request is being made. Adding certificate verification is strongly advised. See: https://urllib3.readthedocs.io/en/latest/advanced-usage.html#ssl-warnings\n",
      "  InsecureRequestWarning)\n"
     ]
    },
    {
     "name": "stdout",
     "output_type": "stream",
     "text": [
      "encontré form:  https://cepeiper.unrc.edu.ar/\n",
      "{'www.unrc.edu.ar': {'url': 'http://www.unrc.edu.ar', 'title': 'Universidad Nacional de Río Cuarto', 'oferta': 'https://www.unrc.edu.ar/unrc/estudiar/carreras.php', 'formulario': 'https://www.unrc.edu.ar/unrc/launiversidad/contacto.php'}, 'webmail.unrc.edu.ar': {'url': 'http://webmail.unrc.edu.ar', 'title': 'Horde :: WEBMAIL de la UNRC'}, 'sisinfo.unrc.edu.ar': {'url': 'http://sisinfo.unrc.edu.ar', 'title': 'Universidad Nacional de Río Cuarto', 'oferta': 'https://www.unrc.edu.ar/unrc/estudiar/carreras.php', 'formulario': 'https://www.unrc.edu.ar/unrc/launiversidad/contacto.php'}, 'www.siat.unrc.edu.ar': {'url': 'http://www.siat.unrc.edu.ar', 'title': 'Campus Virtual SIAT - Universidad Nacional de Río Cuarto', 'formulario': 'http://www.irc.unrc.edu.ar/'}, 'www.ing.unrc.edu.ar': {'url': 'http://www.ing.unrc.edu.ar', 'title': 'Facultad de Ingeniería - UNRC', 'formulario': 'http://correo.ing.unrc.edu.ar/'}, 'gma.ing.unrc.edu.ar': {'url': 'http://gma.ing.unrc.edu.ar', 'title': 'página no disponible'}, 'www.irc.unrc.edu.ar': {'url': 'http://www.irc.unrc.edu.ar', 'title': 'Secretaría de Extensión y Desarrollo UNRC – Centro de Capacitación y Desarrollo de Tecnologías de la Información y Comunicación', 'formulario': 'http://www.irc.unrc.edu.ar/'}, 'juanfilloy.bib.unrc.edu.ar': {'url': 'http://juanfilloy.bib.unrc.edu.ar', 'title': 'Biblioteca Central - Juan Filloy', 'formulario': 'http://juanfilloy.bib.unrc.edu.ar/adquisicion/php/pedidolibro-listado.php?fac=2'}, 'www.hum.unrc.edu.ar': {'url': 'http://www.hum.unrc.edu.ar', 'title': 'Facultad de Ciencias Humanas | UNIVERSIDAD NACIONAL DE RÍO CUARTO. ', 'oferta': 'http://www.hum.unrc.edu.ar/oferta-academica-de-grado-2/', 'formulario': 'http://www.hum.unrc.edu.ar/'}, 'www.eco.unrc.edu.ar': {'url': 'http://www.eco.unrc.edu.ar', 'title': 'FCE'}, 'app2.eco.unrc.edu.ar': {'url': 'http://app2.eco.unrc.edu.ar', 'title': 'Encuesta Docente', 'formulario': 'https://app2.eco.unrc.edu.ar/home'}, 'www.fce.unrc.edu.ar': {'url': 'http://www.fce.unrc.edu.ar', 'title': 'Facultad de Ciencias Economicas – Servicios Informaticos', 'formulario': 'https://www.fce.unrc.edu.ar/contacto/'}, 'revista.eco.unrc.edu.ar': {'url': 'http://revista.eco.unrc.edu.ar', 'title': 'página no disponible'}, 'www.extension.unrc.edu.ar': {'url': 'http://www.extension.unrc.edu.ar', 'title': 'Untitled Document'}, 'cepeiper.unrc.edu.ar': {'url': 'http://cepeiper.unrc.edu.ar', 'title': 'Tecnología Educativa - Universidad Nacional de Río Cuarto', 'oferta': 'https://cepeiper.unrc.edu.ar/?project=mediacion-de-materiales-para-carreras-a-distancia-de-la-facultad-ciencias-economicas', 'formulario': 'https://cepeiper.unrc.edu.ar/'}, 'www.edutec.unrc.edu.ar': {'url': 'http://www.edutec.unrc.edu.ar', 'title': 'Tecnología Educativa - Universidad Nacional de Río Cuarto', 'oferta': 'https://cepeiper.unrc.edu.ar/?project=mediacion-de-materiales-para-carreras-a-distancia-de-la-facultad-ciencias-economicas', 'formulario': 'https://cepeiper.unrc.edu.ar/'}}\n",
      "www.ayv.unrc.edu.ar, links: \n",
      "www.ayv.unrc.edu.ar, oferta académica: \n",
      "[]\n",
      "www.ayv.unrc.edu.ar, contacto: \n",
      "[]\n",
      "sitio  http://www.ayv.unrc.edu.ar href:  http://www.ayv.unrc.edu.ar/index.php/es/alumnos/ingresantes/inscripciones\n",
      "encontré http\n",
      "{'www.unrc.edu.ar': {'url': 'http://www.unrc.edu.ar', 'title': 'Universidad Nacional de Río Cuarto', 'oferta': 'https://www.unrc.edu.ar/unrc/estudiar/carreras.php', 'formulario': 'https://www.unrc.edu.ar/unrc/launiversidad/contacto.php'}, 'webmail.unrc.edu.ar': {'url': 'http://webmail.unrc.edu.ar', 'title': 'Horde :: WEBMAIL de la UNRC'}, 'sisinfo.unrc.edu.ar': {'url': 'http://sisinfo.unrc.edu.ar', 'title': 'Universidad Nacional de Río Cuarto', 'oferta': 'https://www.unrc.edu.ar/unrc/estudiar/carreras.php', 'formulario': 'https://www.unrc.edu.ar/unrc/launiversidad/contacto.php'}, 'www.siat.unrc.edu.ar': {'url': 'http://www.siat.unrc.edu.ar', 'title': 'Campus Virtual SIAT - Universidad Nacional de Río Cuarto', 'formulario': 'http://www.irc.unrc.edu.ar/'}, 'www.ing.unrc.edu.ar': {'url': 'http://www.ing.unrc.edu.ar', 'title': 'Facultad de Ingeniería - UNRC', 'formulario': 'http://correo.ing.unrc.edu.ar/'}, 'gma.ing.unrc.edu.ar': {'url': 'http://gma.ing.unrc.edu.ar', 'title': 'página no disponible'}, 'www.irc.unrc.edu.ar': {'url': 'http://www.irc.unrc.edu.ar', 'title': 'Secretaría de Extensión y Desarrollo UNRC – Centro de Capacitación y Desarrollo de Tecnologías de la Información y Comunicación', 'formulario': 'http://www.irc.unrc.edu.ar/'}, 'juanfilloy.bib.unrc.edu.ar': {'url': 'http://juanfilloy.bib.unrc.edu.ar', 'title': 'Biblioteca Central - Juan Filloy', 'formulario': 'http://juanfilloy.bib.unrc.edu.ar/adquisicion/php/pedidolibro-listado.php?fac=2'}, 'www.hum.unrc.edu.ar': {'url': 'http://www.hum.unrc.edu.ar', 'title': 'Facultad de Ciencias Humanas | UNIVERSIDAD NACIONAL DE RÍO CUARTO. ', 'oferta': 'http://www.hum.unrc.edu.ar/oferta-academica-de-grado-2/', 'formulario': 'http://www.hum.unrc.edu.ar/'}, 'www.eco.unrc.edu.ar': {'url': 'http://www.eco.unrc.edu.ar', 'title': 'FCE'}, 'app2.eco.unrc.edu.ar': {'url': 'http://app2.eco.unrc.edu.ar', 'title': 'Encuesta Docente', 'formulario': 'https://app2.eco.unrc.edu.ar/home'}, 'www.fce.unrc.edu.ar': {'url': 'http://www.fce.unrc.edu.ar', 'title': 'Facultad de Ciencias Economicas – Servicios Informaticos', 'formulario': 'https://www.fce.unrc.edu.ar/contacto/'}, 'revista.eco.unrc.edu.ar': {'url': 'http://revista.eco.unrc.edu.ar', 'title': 'página no disponible'}, 'www.extension.unrc.edu.ar': {'url': 'http://www.extension.unrc.edu.ar', 'title': 'Untitled Document'}, 'cepeiper.unrc.edu.ar': {'url': 'http://cepeiper.unrc.edu.ar', 'title': 'Tecnología Educativa - Universidad Nacional de Río Cuarto', 'oferta': 'https://cepeiper.unrc.edu.ar/?project=mediacion-de-materiales-para-carreras-a-distancia-de-la-facultad-ciencias-economicas', 'formulario': 'https://cepeiper.unrc.edu.ar/'}, 'www.edutec.unrc.edu.ar': {'url': 'http://www.edutec.unrc.edu.ar', 'title': 'Tecnología Educativa - Universidad Nacional de Río Cuarto', 'oferta': 'https://cepeiper.unrc.edu.ar/?project=mediacion-de-materiales-para-carreras-a-distancia-de-la-facultad-ciencias-economicas', 'formulario': 'https://cepeiper.unrc.edu.ar/'}, 'www.ayv.unrc.edu.ar': {'url': 'http://www.ayv.unrc.edu.ar', 'title': 'Inicio'}}\n",
      "www.exa.unrc.edu.ar, links: \n",
      "www.exa.unrc.edu.ar, oferta académica: \n",
      "['http://www.exa.unrc.edu.ar/carreras-de-grado/', 'http://www.exa.unrc.edu.ar/inscripcion-carreras-de-grado/', 'http://www.exa.unrc.edu.ar/carreras-de-posgrado/', 'http://www.exa.unrc.edu.ar/inscripcion-carrera-de-postgrado/', 'http://www.exa.unrc.edu.ar/regimen-de-alumnos-de-carreras-de-grado/']\n",
      "sitio  http://www.exa.unrc.edu.ar href:  http://www.exa.unrc.edu.ar/carreras-de-grado/\n",
      "encontré http\n",
      "www.exa.unrc.edu.ar, contacto: \n",
      "['http://www.exa.unrc.edu.ar/contacto', 'http://www.exa.unrc.edu.ar/contacto', 'http://www.exa.unrc.edu.ar/contacto']\n",
      "sitio  http://www.exa.unrc.edu.ar href:  http://www.exa.unrc.edu.ar/contacto\n",
      "encontré http\n",
      "encontré form:  http://www.exa.unrc.edu.ar/contacto\n",
      "{'www.unrc.edu.ar': {'url': 'http://www.unrc.edu.ar', 'title': 'Universidad Nacional de Río Cuarto', 'oferta': 'https://www.unrc.edu.ar/unrc/estudiar/carreras.php', 'formulario': 'https://www.unrc.edu.ar/unrc/launiversidad/contacto.php'}, 'webmail.unrc.edu.ar': {'url': 'http://webmail.unrc.edu.ar', 'title': 'Horde :: WEBMAIL de la UNRC'}, 'sisinfo.unrc.edu.ar': {'url': 'http://sisinfo.unrc.edu.ar', 'title': 'Universidad Nacional de Río Cuarto', 'oferta': 'https://www.unrc.edu.ar/unrc/estudiar/carreras.php', 'formulario': 'https://www.unrc.edu.ar/unrc/launiversidad/contacto.php'}, 'www.siat.unrc.edu.ar': {'url': 'http://www.siat.unrc.edu.ar', 'title': 'Campus Virtual SIAT - Universidad Nacional de Río Cuarto', 'formulario': 'http://www.irc.unrc.edu.ar/'}, 'www.ing.unrc.edu.ar': {'url': 'http://www.ing.unrc.edu.ar', 'title': 'Facultad de Ingeniería - UNRC', 'formulario': 'http://correo.ing.unrc.edu.ar/'}, 'gma.ing.unrc.edu.ar': {'url': 'http://gma.ing.unrc.edu.ar', 'title': 'página no disponible'}, 'www.irc.unrc.edu.ar': {'url': 'http://www.irc.unrc.edu.ar', 'title': 'Secretaría de Extensión y Desarrollo UNRC – Centro de Capacitación y Desarrollo de Tecnologías de la Información y Comunicación', 'formulario': 'http://www.irc.unrc.edu.ar/'}, 'juanfilloy.bib.unrc.edu.ar': {'url': 'http://juanfilloy.bib.unrc.edu.ar', 'title': 'Biblioteca Central - Juan Filloy', 'formulario': 'http://juanfilloy.bib.unrc.edu.ar/adquisicion/php/pedidolibro-listado.php?fac=2'}, 'www.hum.unrc.edu.ar': {'url': 'http://www.hum.unrc.edu.ar', 'title': 'Facultad de Ciencias Humanas | UNIVERSIDAD NACIONAL DE RÍO CUARTO. ', 'oferta': 'http://www.hum.unrc.edu.ar/oferta-academica-de-grado-2/', 'formulario': 'http://www.hum.unrc.edu.ar/'}, 'www.eco.unrc.edu.ar': {'url': 'http://www.eco.unrc.edu.ar', 'title': 'FCE'}, 'app2.eco.unrc.edu.ar': {'url': 'http://app2.eco.unrc.edu.ar', 'title': 'Encuesta Docente', 'formulario': 'https://app2.eco.unrc.edu.ar/home'}, 'www.fce.unrc.edu.ar': {'url': 'http://www.fce.unrc.edu.ar', 'title': 'Facultad de Ciencias Economicas – Servicios Informaticos', 'formulario': 'https://www.fce.unrc.edu.ar/contacto/'}, 'revista.eco.unrc.edu.ar': {'url': 'http://revista.eco.unrc.edu.ar', 'title': 'página no disponible'}, 'www.extension.unrc.edu.ar': {'url': 'http://www.extension.unrc.edu.ar', 'title': 'Untitled Document'}, 'cepeiper.unrc.edu.ar': {'url': 'http://cepeiper.unrc.edu.ar', 'title': 'Tecnología Educativa - Universidad Nacional de Río Cuarto', 'oferta': 'https://cepeiper.unrc.edu.ar/?project=mediacion-de-materiales-para-carreras-a-distancia-de-la-facultad-ciencias-economicas', 'formulario': 'https://cepeiper.unrc.edu.ar/'}, 'www.edutec.unrc.edu.ar': {'url': 'http://www.edutec.unrc.edu.ar', 'title': 'Tecnología Educativa - Universidad Nacional de Río Cuarto', 'oferta': 'https://cepeiper.unrc.edu.ar/?project=mediacion-de-materiales-para-carreras-a-distancia-de-la-facultad-ciencias-economicas', 'formulario': 'https://cepeiper.unrc.edu.ar/'}, 'www.ayv.unrc.edu.ar': {'url': 'http://www.ayv.unrc.edu.ar', 'title': 'Inicio'}, 'www.exa.unrc.edu.ar': {'url': 'http://www.exa.unrc.edu.ar', 'title': 'página sin título', 'oferta': 'http://www.exa.unrc.edu.ar/carreras-de-grado/', 'formulario': 'http://www.exa.unrc.edu.ar/contacto'}}\n"
     ]
    },
    {
     "name": "stdout",
     "output_type": "stream",
     "text": [
      "dmi.exa.unrc.edu.ar, links: \n",
      "dmi.exa.unrc.edu.ar, oferta académica: \n",
      "[]\n",
      "dmi.exa.unrc.edu.ar, contacto: \n",
      "[]\n",
      "sitio  http://dmi.exa.unrc.edu.ar href:  http://www.unrc.edu.ar\n",
      "encontré http\n"
     ]
    },
    {
     "name": "stderr",
     "output_type": "stream",
     "text": [
      "/home/bibiana/.conda/envs/taw/lib/python3.6/site-packages/urllib3/connectionpool.py:857: InsecureRequestWarning: Unverified HTTPS request is being made. Adding certificate verification is strongly advised. See: https://urllib3.readthedocs.io/en/latest/advanced-usage.html#ssl-warnings\n",
      "  InsecureRequestWarning)\n"
     ]
    },
    {
     "name": "stdout",
     "output_type": "stream",
     "text": [
      "sitio  http://dmi.exa.unrc.edu.ar href:  http://www.exa.unrc.edu.ar\n",
      "encontré http\n",
      "encontré form:  http://www.exa.unrc.edu.ar\n",
      "{'www.unrc.edu.ar': {'url': 'http://www.unrc.edu.ar', 'title': 'Universidad Nacional de Río Cuarto', 'oferta': 'https://www.unrc.edu.ar/unrc/estudiar/carreras.php', 'formulario': 'https://www.unrc.edu.ar/unrc/launiversidad/contacto.php'}, 'webmail.unrc.edu.ar': {'url': 'http://webmail.unrc.edu.ar', 'title': 'Horde :: WEBMAIL de la UNRC'}, 'sisinfo.unrc.edu.ar': {'url': 'http://sisinfo.unrc.edu.ar', 'title': 'Universidad Nacional de Río Cuarto', 'oferta': 'https://www.unrc.edu.ar/unrc/estudiar/carreras.php', 'formulario': 'https://www.unrc.edu.ar/unrc/launiversidad/contacto.php'}, 'www.siat.unrc.edu.ar': {'url': 'http://www.siat.unrc.edu.ar', 'title': 'Campus Virtual SIAT - Universidad Nacional de Río Cuarto', 'formulario': 'http://www.irc.unrc.edu.ar/'}, 'www.ing.unrc.edu.ar': {'url': 'http://www.ing.unrc.edu.ar', 'title': 'Facultad de Ingeniería - UNRC', 'formulario': 'http://correo.ing.unrc.edu.ar/'}, 'gma.ing.unrc.edu.ar': {'url': 'http://gma.ing.unrc.edu.ar', 'title': 'página no disponible'}, 'www.irc.unrc.edu.ar': {'url': 'http://www.irc.unrc.edu.ar', 'title': 'Secretaría de Extensión y Desarrollo UNRC – Centro de Capacitación y Desarrollo de Tecnologías de la Información y Comunicación', 'formulario': 'http://www.irc.unrc.edu.ar/'}, 'juanfilloy.bib.unrc.edu.ar': {'url': 'http://juanfilloy.bib.unrc.edu.ar', 'title': 'Biblioteca Central - Juan Filloy', 'formulario': 'http://juanfilloy.bib.unrc.edu.ar/adquisicion/php/pedidolibro-listado.php?fac=2'}, 'www.hum.unrc.edu.ar': {'url': 'http://www.hum.unrc.edu.ar', 'title': 'Facultad de Ciencias Humanas | UNIVERSIDAD NACIONAL DE RÍO CUARTO. ', 'oferta': 'http://www.hum.unrc.edu.ar/oferta-academica-de-grado-2/', 'formulario': 'http://www.hum.unrc.edu.ar/'}, 'www.eco.unrc.edu.ar': {'url': 'http://www.eco.unrc.edu.ar', 'title': 'FCE'}, 'app2.eco.unrc.edu.ar': {'url': 'http://app2.eco.unrc.edu.ar', 'title': 'Encuesta Docente', 'formulario': 'https://app2.eco.unrc.edu.ar/home'}, 'www.fce.unrc.edu.ar': {'url': 'http://www.fce.unrc.edu.ar', 'title': 'Facultad de Ciencias Economicas – Servicios Informaticos', 'formulario': 'https://www.fce.unrc.edu.ar/contacto/'}, 'revista.eco.unrc.edu.ar': {'url': 'http://revista.eco.unrc.edu.ar', 'title': 'página no disponible'}, 'www.extension.unrc.edu.ar': {'url': 'http://www.extension.unrc.edu.ar', 'title': 'Untitled Document'}, 'cepeiper.unrc.edu.ar': {'url': 'http://cepeiper.unrc.edu.ar', 'title': 'Tecnología Educativa - Universidad Nacional de Río Cuarto', 'oferta': 'https://cepeiper.unrc.edu.ar/?project=mediacion-de-materiales-para-carreras-a-distancia-de-la-facultad-ciencias-economicas', 'formulario': 'https://cepeiper.unrc.edu.ar/'}, 'www.edutec.unrc.edu.ar': {'url': 'http://www.edutec.unrc.edu.ar', 'title': 'Tecnología Educativa - Universidad Nacional de Río Cuarto', 'oferta': 'https://cepeiper.unrc.edu.ar/?project=mediacion-de-materiales-para-carreras-a-distancia-de-la-facultad-ciencias-economicas', 'formulario': 'https://cepeiper.unrc.edu.ar/'}, 'www.ayv.unrc.edu.ar': {'url': 'http://www.ayv.unrc.edu.ar', 'title': 'Inicio'}, 'www.exa.unrc.edu.ar': {'url': 'http://www.exa.unrc.edu.ar', 'title': 'página sin título', 'oferta': 'http://www.exa.unrc.edu.ar/carreras-de-grado/', 'formulario': 'http://www.exa.unrc.edu.ar/contacto'}, 'dmi.exa.unrc.edu.ar': {'url': 'http://dmi.exa.unrc.edu.ar', 'title': 'Departamento de Microbiología e Inmunología', 'formulario': 'http://www.exa.unrc.edu.ar'}}\n",
      "dq.exa.unrc.edu.ar, links: \n",
      "dq.exa.unrc.edu.ar, oferta académica: \n",
      "[]\n",
      "dq.exa.unrc.edu.ar, contacto: \n",
      "[]\n",
      "sitio  http://dq.exa.unrc.edu.ar href:  http://dq.exa.unrc.edu.ar/sites/default/files/images/slideshows/tabladeelementos5_0.png\n",
      "encontré http\n",
      "sitio  http://dq.exa.unrc.edu.ar href:  http://dq.exa.unrc.edu.ar/sites/default/files/images/slideshows/muralslide.jpg\n",
      "encontré http\n",
      "sitio  http://dq.exa.unrc.edu.ar href:  http://www.exa.unrc.edu.ar\n",
      "encontré http\n",
      "encontré form:  http://www.exa.unrc.edu.ar\n",
      "{'www.unrc.edu.ar': {'url': 'http://www.unrc.edu.ar', 'title': 'Universidad Nacional de Río Cuarto', 'oferta': 'https://www.unrc.edu.ar/unrc/estudiar/carreras.php', 'formulario': 'https://www.unrc.edu.ar/unrc/launiversidad/contacto.php'}, 'webmail.unrc.edu.ar': {'url': 'http://webmail.unrc.edu.ar', 'title': 'Horde :: WEBMAIL de la UNRC'}, 'sisinfo.unrc.edu.ar': {'url': 'http://sisinfo.unrc.edu.ar', 'title': 'Universidad Nacional de Río Cuarto', 'oferta': 'https://www.unrc.edu.ar/unrc/estudiar/carreras.php', 'formulario': 'https://www.unrc.edu.ar/unrc/launiversidad/contacto.php'}, 'www.siat.unrc.edu.ar': {'url': 'http://www.siat.unrc.edu.ar', 'title': 'Campus Virtual SIAT - Universidad Nacional de Río Cuarto', 'formulario': 'http://www.irc.unrc.edu.ar/'}, 'www.ing.unrc.edu.ar': {'url': 'http://www.ing.unrc.edu.ar', 'title': 'Facultad de Ingeniería - UNRC', 'formulario': 'http://correo.ing.unrc.edu.ar/'}, 'gma.ing.unrc.edu.ar': {'url': 'http://gma.ing.unrc.edu.ar', 'title': 'página no disponible'}, 'www.irc.unrc.edu.ar': {'url': 'http://www.irc.unrc.edu.ar', 'title': 'Secretaría de Extensión y Desarrollo UNRC – Centro de Capacitación y Desarrollo de Tecnologías de la Información y Comunicación', 'formulario': 'http://www.irc.unrc.edu.ar/'}, 'juanfilloy.bib.unrc.edu.ar': {'url': 'http://juanfilloy.bib.unrc.edu.ar', 'title': 'Biblioteca Central - Juan Filloy', 'formulario': 'http://juanfilloy.bib.unrc.edu.ar/adquisicion/php/pedidolibro-listado.php?fac=2'}, 'www.hum.unrc.edu.ar': {'url': 'http://www.hum.unrc.edu.ar', 'title': 'Facultad de Ciencias Humanas | UNIVERSIDAD NACIONAL DE RÍO CUARTO. ', 'oferta': 'http://www.hum.unrc.edu.ar/oferta-academica-de-grado-2/', 'formulario': 'http://www.hum.unrc.edu.ar/'}, 'www.eco.unrc.edu.ar': {'url': 'http://www.eco.unrc.edu.ar', 'title': 'FCE'}, 'app2.eco.unrc.edu.ar': {'url': 'http://app2.eco.unrc.edu.ar', 'title': 'Encuesta Docente', 'formulario': 'https://app2.eco.unrc.edu.ar/home'}, 'www.fce.unrc.edu.ar': {'url': 'http://www.fce.unrc.edu.ar', 'title': 'Facultad de Ciencias Economicas – Servicios Informaticos', 'formulario': 'https://www.fce.unrc.edu.ar/contacto/'}, 'revista.eco.unrc.edu.ar': {'url': 'http://revista.eco.unrc.edu.ar', 'title': 'página no disponible'}, 'www.extension.unrc.edu.ar': {'url': 'http://www.extension.unrc.edu.ar', 'title': 'Untitled Document'}, 'cepeiper.unrc.edu.ar': {'url': 'http://cepeiper.unrc.edu.ar', 'title': 'Tecnología Educativa - Universidad Nacional de Río Cuarto', 'oferta': 'https://cepeiper.unrc.edu.ar/?project=mediacion-de-materiales-para-carreras-a-distancia-de-la-facultad-ciencias-economicas', 'formulario': 'https://cepeiper.unrc.edu.ar/'}, 'www.edutec.unrc.edu.ar': {'url': 'http://www.edutec.unrc.edu.ar', 'title': 'Tecnología Educativa - Universidad Nacional de Río Cuarto', 'oferta': 'https://cepeiper.unrc.edu.ar/?project=mediacion-de-materiales-para-carreras-a-distancia-de-la-facultad-ciencias-economicas', 'formulario': 'https://cepeiper.unrc.edu.ar/'}, 'www.ayv.unrc.edu.ar': {'url': 'http://www.ayv.unrc.edu.ar', 'title': 'Inicio'}, 'www.exa.unrc.edu.ar': {'url': 'http://www.exa.unrc.edu.ar', 'title': 'página sin título', 'oferta': 'http://www.exa.unrc.edu.ar/carreras-de-grado/', 'formulario': 'http://www.exa.unrc.edu.ar/contacto'}, 'dmi.exa.unrc.edu.ar': {'url': 'http://dmi.exa.unrc.edu.ar', 'title': 'Departamento de Microbiología e Inmunología', 'formulario': 'http://www.exa.unrc.edu.ar'}, 'dq.exa.unrc.edu.ar': {'url': 'http://dq.exa.unrc.edu.ar', 'title': 'Departamento de Química | FCEFQyN - UNRC', 'formulario': 'http://www.exa.unrc.edu.ar'}}\n",
      "dmat.exa.unrc.edu.ar, links: \n",
      "dmat.exa.unrc.edu.ar, oferta académica: \n",
      "[]\n",
      "dmat.exa.unrc.edu.ar, contacto: \n",
      "[]\n",
      "sitio  http://dmat.exa.unrc.edu.ar href:  http://www.siat.unrc.edu.ar/siat2/index.jsp\n",
      "encontré http\n",
      "encontré form:  http://www.siat.unrc.edu.ar/siat2/index.jsp\n",
      "{'www.unrc.edu.ar': {'url': 'http://www.unrc.edu.ar', 'title': 'Universidad Nacional de Río Cuarto', 'oferta': 'https://www.unrc.edu.ar/unrc/estudiar/carreras.php', 'formulario': 'https://www.unrc.edu.ar/unrc/launiversidad/contacto.php'}, 'webmail.unrc.edu.ar': {'url': 'http://webmail.unrc.edu.ar', 'title': 'Horde :: WEBMAIL de la UNRC'}, 'sisinfo.unrc.edu.ar': {'url': 'http://sisinfo.unrc.edu.ar', 'title': 'Universidad Nacional de Río Cuarto', 'oferta': 'https://www.unrc.edu.ar/unrc/estudiar/carreras.php', 'formulario': 'https://www.unrc.edu.ar/unrc/launiversidad/contacto.php'}, 'www.siat.unrc.edu.ar': {'url': 'http://www.siat.unrc.edu.ar', 'title': 'Campus Virtual SIAT - Universidad Nacional de Río Cuarto', 'formulario': 'http://www.irc.unrc.edu.ar/'}, 'www.ing.unrc.edu.ar': {'url': 'http://www.ing.unrc.edu.ar', 'title': 'Facultad de Ingeniería - UNRC', 'formulario': 'http://correo.ing.unrc.edu.ar/'}, 'gma.ing.unrc.edu.ar': {'url': 'http://gma.ing.unrc.edu.ar', 'title': 'página no disponible'}, 'www.irc.unrc.edu.ar': {'url': 'http://www.irc.unrc.edu.ar', 'title': 'Secretaría de Extensión y Desarrollo UNRC – Centro de Capacitación y Desarrollo de Tecnologías de la Información y Comunicación', 'formulario': 'http://www.irc.unrc.edu.ar/'}, 'juanfilloy.bib.unrc.edu.ar': {'url': 'http://juanfilloy.bib.unrc.edu.ar', 'title': 'Biblioteca Central - Juan Filloy', 'formulario': 'http://juanfilloy.bib.unrc.edu.ar/adquisicion/php/pedidolibro-listado.php?fac=2'}, 'www.hum.unrc.edu.ar': {'url': 'http://www.hum.unrc.edu.ar', 'title': 'Facultad de Ciencias Humanas | UNIVERSIDAD NACIONAL DE RÍO CUARTO. ', 'oferta': 'http://www.hum.unrc.edu.ar/oferta-academica-de-grado-2/', 'formulario': 'http://www.hum.unrc.edu.ar/'}, 'www.eco.unrc.edu.ar': {'url': 'http://www.eco.unrc.edu.ar', 'title': 'FCE'}, 'app2.eco.unrc.edu.ar': {'url': 'http://app2.eco.unrc.edu.ar', 'title': 'Encuesta Docente', 'formulario': 'https://app2.eco.unrc.edu.ar/home'}, 'www.fce.unrc.edu.ar': {'url': 'http://www.fce.unrc.edu.ar', 'title': 'Facultad de Ciencias Economicas – Servicios Informaticos', 'formulario': 'https://www.fce.unrc.edu.ar/contacto/'}, 'revista.eco.unrc.edu.ar': {'url': 'http://revista.eco.unrc.edu.ar', 'title': 'página no disponible'}, 'www.extension.unrc.edu.ar': {'url': 'http://www.extension.unrc.edu.ar', 'title': 'Untitled Document'}, 'cepeiper.unrc.edu.ar': {'url': 'http://cepeiper.unrc.edu.ar', 'title': 'Tecnología Educativa - Universidad Nacional de Río Cuarto', 'oferta': 'https://cepeiper.unrc.edu.ar/?project=mediacion-de-materiales-para-carreras-a-distancia-de-la-facultad-ciencias-economicas', 'formulario': 'https://cepeiper.unrc.edu.ar/'}, 'www.edutec.unrc.edu.ar': {'url': 'http://www.edutec.unrc.edu.ar', 'title': 'Tecnología Educativa - Universidad Nacional de Río Cuarto', 'oferta': 'https://cepeiper.unrc.edu.ar/?project=mediacion-de-materiales-para-carreras-a-distancia-de-la-facultad-ciencias-economicas', 'formulario': 'https://cepeiper.unrc.edu.ar/'}, 'www.ayv.unrc.edu.ar': {'url': 'http://www.ayv.unrc.edu.ar', 'title': 'Inicio'}, 'www.exa.unrc.edu.ar': {'url': 'http://www.exa.unrc.edu.ar', 'title': 'página sin título', 'oferta': 'http://www.exa.unrc.edu.ar/carreras-de-grado/', 'formulario': 'http://www.exa.unrc.edu.ar/contacto'}, 'dmi.exa.unrc.edu.ar': {'url': 'http://dmi.exa.unrc.edu.ar', 'title': 'Departamento de Microbiología e Inmunología', 'formulario': 'http://www.exa.unrc.edu.ar'}, 'dq.exa.unrc.edu.ar': {'url': 'http://dq.exa.unrc.edu.ar', 'title': 'Departamento de Química | FCEFQyN - UNRC', 'formulario': 'http://www.exa.unrc.edu.ar'}, 'dmat.exa.unrc.edu.ar': {'url': 'http://dmat.exa.unrc.edu.ar', 'title': 'Departamento de Matemática | FCEFQyN - UNRC', 'formulario': 'http://www.siat.unrc.edu.ar/siat2/index.jsp'}}\n"
     ]
    },
    {
     "name": "stdout",
     "output_type": "stream",
     "text": [
      "dc.exa.unrc.edu.ar, links: \n",
      "dc.exa.unrc.edu.ar, oferta académica: \n",
      "[]\n",
      "dc.exa.unrc.edu.ar, contacto: \n",
      "[]\n",
      "{'www.unrc.edu.ar': {'url': 'http://www.unrc.edu.ar', 'title': 'Universidad Nacional de Río Cuarto', 'oferta': 'https://www.unrc.edu.ar/unrc/estudiar/carreras.php', 'formulario': 'https://www.unrc.edu.ar/unrc/launiversidad/contacto.php'}, 'webmail.unrc.edu.ar': {'url': 'http://webmail.unrc.edu.ar', 'title': 'Horde :: WEBMAIL de la UNRC'}, 'sisinfo.unrc.edu.ar': {'url': 'http://sisinfo.unrc.edu.ar', 'title': 'Universidad Nacional de Río Cuarto', 'oferta': 'https://www.unrc.edu.ar/unrc/estudiar/carreras.php', 'formulario': 'https://www.unrc.edu.ar/unrc/launiversidad/contacto.php'}, 'www.siat.unrc.edu.ar': {'url': 'http://www.siat.unrc.edu.ar', 'title': 'Campus Virtual SIAT - Universidad Nacional de Río Cuarto', 'formulario': 'http://www.irc.unrc.edu.ar/'}, 'www.ing.unrc.edu.ar': {'url': 'http://www.ing.unrc.edu.ar', 'title': 'Facultad de Ingeniería - UNRC', 'formulario': 'http://correo.ing.unrc.edu.ar/'}, 'gma.ing.unrc.edu.ar': {'url': 'http://gma.ing.unrc.edu.ar', 'title': 'página no disponible'}, 'www.irc.unrc.edu.ar': {'url': 'http://www.irc.unrc.edu.ar', 'title': 'Secretaría de Extensión y Desarrollo UNRC – Centro de Capacitación y Desarrollo de Tecnologías de la Información y Comunicación', 'formulario': 'http://www.irc.unrc.edu.ar/'}, 'juanfilloy.bib.unrc.edu.ar': {'url': 'http://juanfilloy.bib.unrc.edu.ar', 'title': 'Biblioteca Central - Juan Filloy', 'formulario': 'http://juanfilloy.bib.unrc.edu.ar/adquisicion/php/pedidolibro-listado.php?fac=2'}, 'www.hum.unrc.edu.ar': {'url': 'http://www.hum.unrc.edu.ar', 'title': 'Facultad de Ciencias Humanas | UNIVERSIDAD NACIONAL DE RÍO CUARTO. ', 'oferta': 'http://www.hum.unrc.edu.ar/oferta-academica-de-grado-2/', 'formulario': 'http://www.hum.unrc.edu.ar/'}, 'www.eco.unrc.edu.ar': {'url': 'http://www.eco.unrc.edu.ar', 'title': 'FCE'}, 'app2.eco.unrc.edu.ar': {'url': 'http://app2.eco.unrc.edu.ar', 'title': 'Encuesta Docente', 'formulario': 'https://app2.eco.unrc.edu.ar/home'}, 'www.fce.unrc.edu.ar': {'url': 'http://www.fce.unrc.edu.ar', 'title': 'Facultad de Ciencias Economicas – Servicios Informaticos', 'formulario': 'https://www.fce.unrc.edu.ar/contacto/'}, 'revista.eco.unrc.edu.ar': {'url': 'http://revista.eco.unrc.edu.ar', 'title': 'página no disponible'}, 'www.extension.unrc.edu.ar': {'url': 'http://www.extension.unrc.edu.ar', 'title': 'Untitled Document'}, 'cepeiper.unrc.edu.ar': {'url': 'http://cepeiper.unrc.edu.ar', 'title': 'Tecnología Educativa - Universidad Nacional de Río Cuarto', 'oferta': 'https://cepeiper.unrc.edu.ar/?project=mediacion-de-materiales-para-carreras-a-distancia-de-la-facultad-ciencias-economicas', 'formulario': 'https://cepeiper.unrc.edu.ar/'}, 'www.edutec.unrc.edu.ar': {'url': 'http://www.edutec.unrc.edu.ar', 'title': 'Tecnología Educativa - Universidad Nacional de Río Cuarto', 'oferta': 'https://cepeiper.unrc.edu.ar/?project=mediacion-de-materiales-para-carreras-a-distancia-de-la-facultad-ciencias-economicas', 'formulario': 'https://cepeiper.unrc.edu.ar/'}, 'www.ayv.unrc.edu.ar': {'url': 'http://www.ayv.unrc.edu.ar', 'title': 'Inicio'}, 'www.exa.unrc.edu.ar': {'url': 'http://www.exa.unrc.edu.ar', 'title': 'página sin título', 'oferta': 'http://www.exa.unrc.edu.ar/carreras-de-grado/', 'formulario': 'http://www.exa.unrc.edu.ar/contacto'}, 'dmi.exa.unrc.edu.ar': {'url': 'http://dmi.exa.unrc.edu.ar', 'title': 'Departamento de Microbiología e Inmunología', 'formulario': 'http://www.exa.unrc.edu.ar'}, 'dq.exa.unrc.edu.ar': {'url': 'http://dq.exa.unrc.edu.ar', 'title': 'Departamento de Química | FCEFQyN - UNRC', 'formulario': 'http://www.exa.unrc.edu.ar'}, 'dmat.exa.unrc.edu.ar': {'url': 'http://dmat.exa.unrc.edu.ar', 'title': 'Departamento de Matemática | FCEFQyN - UNRC', 'formulario': 'http://www.siat.unrc.edu.ar/siat2/index.jsp'}, 'dc.exa.unrc.edu.ar': {'url': 'http://dc.exa.unrc.edu.ar', 'title': 'página sin título'}}\n",
      "geo.exa.unrc.edu.ar, links: \n",
      "geo.exa.unrc.edu.ar, oferta académica: \n",
      "[]\n",
      "geo.exa.unrc.edu.ar, contacto: \n",
      "[]\n",
      "sitio  http://geo.exa.unrc.edu.ar href:  http://www.unrc.edu.ar/\n",
      "encontré http\n"
     ]
    },
    {
     "name": "stderr",
     "output_type": "stream",
     "text": [
      "/home/bibiana/.conda/envs/taw/lib/python3.6/site-packages/urllib3/connectionpool.py:857: InsecureRequestWarning: Unverified HTTPS request is being made. Adding certificate verification is strongly advised. See: https://urllib3.readthedocs.io/en/latest/advanced-usage.html#ssl-warnings\n",
      "  InsecureRequestWarning)\n"
     ]
    },
    {
     "name": "stdout",
     "output_type": "stream",
     "text": [
      "sitio  http://geo.exa.unrc.edu.ar href:  http://www.unrc.edu.ar/\n",
      "encontré http\n"
     ]
    },
    {
     "name": "stderr",
     "output_type": "stream",
     "text": [
      "/home/bibiana/.conda/envs/taw/lib/python3.6/site-packages/urllib3/connectionpool.py:857: InsecureRequestWarning: Unverified HTTPS request is being made. Adding certificate verification is strongly advised. See: https://urllib3.readthedocs.io/en/latest/advanced-usage.html#ssl-warnings\n",
      "  InsecureRequestWarning)\n"
     ]
    },
    {
     "name": "stdout",
     "output_type": "stream",
     "text": [
      "sitio  http://geo.exa.unrc.edu.ar href:  http://intra.exa.unrc.edu.ar/\n",
      "encontré http\n",
      "sitio  http://geo.exa.unrc.edu.ar href:  http://geo.exa.unrc.edu.ar\n",
      "encontré http\n",
      "sitio  http://geo.exa.unrc.edu.ar href:  http://geo.exa.unrc.edu.ar/grado\n",
      "encontré http\n",
      "sitio  http://geo.exa.unrc.edu.ar href:  http://geo.exa.unrc.edu.ar/Posgrado\n",
      "encontré http\n",
      "sitio  http://geo.exa.unrc.edu.ar href:  http://geo.exa.unrc.edu.ar/Materias\n",
      "encontré http\n",
      "sitio  http://geo.exa.unrc.edu.ar href:  http://geo.exa.unrc.edu.ar/docentes\n",
      "encontré http\n",
      "sitio  http://geo.exa.unrc.edu.ar href:  http://geo.exa.unrc.edu.ar/Equipo\n",
      "encontré http\n",
      "sitio  http://geo.exa.unrc.edu.ar href:  http://geo.exa.unrc.edu.ar/extension\n",
      "encontré http\n",
      "sitio  http://geo.exa.unrc.edu.ar href:  http://geo.exa.unrc.edu.ar/investigacion\n",
      "encontré http\n",
      "sitio  http://geo.exa.unrc.edu.ar href:  http://geo.exa.unrc.edu.ar/Novedades\n",
      "encontré http\n",
      "sitio  http://geo.exa.unrc.edu.ar href:  http://geo.exa.unrc.edu.ar/PLANTEL\n",
      "encontré http\n",
      "sitio  http://geo.exa.unrc.edu.ar href:  http://geo.exa.unrc.edu.ar/ESTUDIANTES\n",
      "encontré http\n",
      "sitio  http://geo.exa.unrc.edu.ar href:  http://geo.exa.unrc.edu.ar/POSGRA\n",
      "encontré http\n",
      "sitio  http://geo.exa.unrc.edu.ar href:  http://geo.exa.unrc.edu.ar/XMINMET\n",
      "encontré http\n",
      "sitio  http://geo.exa.unrc.edu.ar href:  http://geo.exa.unrc.edu.ar/MINERIA\n",
      "encontré http\n",
      "{'www.unrc.edu.ar': {'url': 'http://www.unrc.edu.ar', 'title': 'Universidad Nacional de Río Cuarto', 'oferta': 'https://www.unrc.edu.ar/unrc/estudiar/carreras.php', 'formulario': 'https://www.unrc.edu.ar/unrc/launiversidad/contacto.php'}, 'webmail.unrc.edu.ar': {'url': 'http://webmail.unrc.edu.ar', 'title': 'Horde :: WEBMAIL de la UNRC'}, 'sisinfo.unrc.edu.ar': {'url': 'http://sisinfo.unrc.edu.ar', 'title': 'Universidad Nacional de Río Cuarto', 'oferta': 'https://www.unrc.edu.ar/unrc/estudiar/carreras.php', 'formulario': 'https://www.unrc.edu.ar/unrc/launiversidad/contacto.php'}, 'www.siat.unrc.edu.ar': {'url': 'http://www.siat.unrc.edu.ar', 'title': 'Campus Virtual SIAT - Universidad Nacional de Río Cuarto', 'formulario': 'http://www.irc.unrc.edu.ar/'}, 'www.ing.unrc.edu.ar': {'url': 'http://www.ing.unrc.edu.ar', 'title': 'Facultad de Ingeniería - UNRC', 'formulario': 'http://correo.ing.unrc.edu.ar/'}, 'gma.ing.unrc.edu.ar': {'url': 'http://gma.ing.unrc.edu.ar', 'title': 'página no disponible'}, 'www.irc.unrc.edu.ar': {'url': 'http://www.irc.unrc.edu.ar', 'title': 'Secretaría de Extensión y Desarrollo UNRC – Centro de Capacitación y Desarrollo de Tecnologías de la Información y Comunicación', 'formulario': 'http://www.irc.unrc.edu.ar/'}, 'juanfilloy.bib.unrc.edu.ar': {'url': 'http://juanfilloy.bib.unrc.edu.ar', 'title': 'Biblioteca Central - Juan Filloy', 'formulario': 'http://juanfilloy.bib.unrc.edu.ar/adquisicion/php/pedidolibro-listado.php?fac=2'}, 'www.hum.unrc.edu.ar': {'url': 'http://www.hum.unrc.edu.ar', 'title': 'Facultad de Ciencias Humanas | UNIVERSIDAD NACIONAL DE RÍO CUARTO. ', 'oferta': 'http://www.hum.unrc.edu.ar/oferta-academica-de-grado-2/', 'formulario': 'http://www.hum.unrc.edu.ar/'}, 'www.eco.unrc.edu.ar': {'url': 'http://www.eco.unrc.edu.ar', 'title': 'FCE'}, 'app2.eco.unrc.edu.ar': {'url': 'http://app2.eco.unrc.edu.ar', 'title': 'Encuesta Docente', 'formulario': 'https://app2.eco.unrc.edu.ar/home'}, 'www.fce.unrc.edu.ar': {'url': 'http://www.fce.unrc.edu.ar', 'title': 'Facultad de Ciencias Economicas – Servicios Informaticos', 'formulario': 'https://www.fce.unrc.edu.ar/contacto/'}, 'revista.eco.unrc.edu.ar': {'url': 'http://revista.eco.unrc.edu.ar', 'title': 'página no disponible'}, 'www.extension.unrc.edu.ar': {'url': 'http://www.extension.unrc.edu.ar', 'title': 'Untitled Document'}, 'cepeiper.unrc.edu.ar': {'url': 'http://cepeiper.unrc.edu.ar', 'title': 'Tecnología Educativa - Universidad Nacional de Río Cuarto', 'oferta': 'https://cepeiper.unrc.edu.ar/?project=mediacion-de-materiales-para-carreras-a-distancia-de-la-facultad-ciencias-economicas', 'formulario': 'https://cepeiper.unrc.edu.ar/'}, 'www.edutec.unrc.edu.ar': {'url': 'http://www.edutec.unrc.edu.ar', 'title': 'Tecnología Educativa - Universidad Nacional de Río Cuarto', 'oferta': 'https://cepeiper.unrc.edu.ar/?project=mediacion-de-materiales-para-carreras-a-distancia-de-la-facultad-ciencias-economicas', 'formulario': 'https://cepeiper.unrc.edu.ar/'}, 'www.ayv.unrc.edu.ar': {'url': 'http://www.ayv.unrc.edu.ar', 'title': 'Inicio'}, 'www.exa.unrc.edu.ar': {'url': 'http://www.exa.unrc.edu.ar', 'title': 'página sin título', 'oferta': 'http://www.exa.unrc.edu.ar/carreras-de-grado/', 'formulario': 'http://www.exa.unrc.edu.ar/contacto'}, 'dmi.exa.unrc.edu.ar': {'url': 'http://dmi.exa.unrc.edu.ar', 'title': 'Departamento de Microbiología e Inmunología', 'formulario': 'http://www.exa.unrc.edu.ar'}, 'dq.exa.unrc.edu.ar': {'url': 'http://dq.exa.unrc.edu.ar', 'title': 'Departamento de Química | FCEFQyN - UNRC', 'formulario': 'http://www.exa.unrc.edu.ar'}, 'dmat.exa.unrc.edu.ar': {'url': 'http://dmat.exa.unrc.edu.ar', 'title': 'Departamento de Matemática | FCEFQyN - UNRC', 'formulario': 'http://www.siat.unrc.edu.ar/siat2/index.jsp'}, 'dc.exa.unrc.edu.ar': {'url': 'http://dc.exa.unrc.edu.ar', 'title': 'página sin título'}, 'geo.exa.unrc.edu.ar': {'url': 'http://geo.exa.unrc.edu.ar', 'title': 'Departamento de Geología'}}\n",
      "neutron.exa.unrc.edu.ar, links: \n",
      "neutron.exa.unrc.edu.ar, oferta académica: \n",
      "[]\n",
      "neutron.exa.unrc.edu.ar, contacto: \n",
      "[]\n",
      "sitio  http://neutron.exa.unrc.edu.ar href:  http://www.exa.unrc.edu.ar\n",
      "encontré http\n",
      "encontré form:  http://www.exa.unrc.edu.ar\n",
      "{'www.unrc.edu.ar': {'url': 'http://www.unrc.edu.ar', 'title': 'Universidad Nacional de Río Cuarto', 'oferta': 'https://www.unrc.edu.ar/unrc/estudiar/carreras.php', 'formulario': 'https://www.unrc.edu.ar/unrc/launiversidad/contacto.php'}, 'webmail.unrc.edu.ar': {'url': 'http://webmail.unrc.edu.ar', 'title': 'Horde :: WEBMAIL de la UNRC'}, 'sisinfo.unrc.edu.ar': {'url': 'http://sisinfo.unrc.edu.ar', 'title': 'Universidad Nacional de Río Cuarto', 'oferta': 'https://www.unrc.edu.ar/unrc/estudiar/carreras.php', 'formulario': 'https://www.unrc.edu.ar/unrc/launiversidad/contacto.php'}, 'www.siat.unrc.edu.ar': {'url': 'http://www.siat.unrc.edu.ar', 'title': 'Campus Virtual SIAT - Universidad Nacional de Río Cuarto', 'formulario': 'http://www.irc.unrc.edu.ar/'}, 'www.ing.unrc.edu.ar': {'url': 'http://www.ing.unrc.edu.ar', 'title': 'Facultad de Ingeniería - UNRC', 'formulario': 'http://correo.ing.unrc.edu.ar/'}, 'gma.ing.unrc.edu.ar': {'url': 'http://gma.ing.unrc.edu.ar', 'title': 'página no disponible'}, 'www.irc.unrc.edu.ar': {'url': 'http://www.irc.unrc.edu.ar', 'title': 'Secretaría de Extensión y Desarrollo UNRC – Centro de Capacitación y Desarrollo de Tecnologías de la Información y Comunicación', 'formulario': 'http://www.irc.unrc.edu.ar/'}, 'juanfilloy.bib.unrc.edu.ar': {'url': 'http://juanfilloy.bib.unrc.edu.ar', 'title': 'Biblioteca Central - Juan Filloy', 'formulario': 'http://juanfilloy.bib.unrc.edu.ar/adquisicion/php/pedidolibro-listado.php?fac=2'}, 'www.hum.unrc.edu.ar': {'url': 'http://www.hum.unrc.edu.ar', 'title': 'Facultad de Ciencias Humanas | UNIVERSIDAD NACIONAL DE RÍO CUARTO. ', 'oferta': 'http://www.hum.unrc.edu.ar/oferta-academica-de-grado-2/', 'formulario': 'http://www.hum.unrc.edu.ar/'}, 'www.eco.unrc.edu.ar': {'url': 'http://www.eco.unrc.edu.ar', 'title': 'FCE'}, 'app2.eco.unrc.edu.ar': {'url': 'http://app2.eco.unrc.edu.ar', 'title': 'Encuesta Docente', 'formulario': 'https://app2.eco.unrc.edu.ar/home'}, 'www.fce.unrc.edu.ar': {'url': 'http://www.fce.unrc.edu.ar', 'title': 'Facultad de Ciencias Economicas – Servicios Informaticos', 'formulario': 'https://www.fce.unrc.edu.ar/contacto/'}, 'revista.eco.unrc.edu.ar': {'url': 'http://revista.eco.unrc.edu.ar', 'title': 'página no disponible'}, 'www.extension.unrc.edu.ar': {'url': 'http://www.extension.unrc.edu.ar', 'title': 'Untitled Document'}, 'cepeiper.unrc.edu.ar': {'url': 'http://cepeiper.unrc.edu.ar', 'title': 'Tecnología Educativa - Universidad Nacional de Río Cuarto', 'oferta': 'https://cepeiper.unrc.edu.ar/?project=mediacion-de-materiales-para-carreras-a-distancia-de-la-facultad-ciencias-economicas', 'formulario': 'https://cepeiper.unrc.edu.ar/'}, 'www.edutec.unrc.edu.ar': {'url': 'http://www.edutec.unrc.edu.ar', 'title': 'Tecnología Educativa - Universidad Nacional de Río Cuarto', 'oferta': 'https://cepeiper.unrc.edu.ar/?project=mediacion-de-materiales-para-carreras-a-distancia-de-la-facultad-ciencias-economicas', 'formulario': 'https://cepeiper.unrc.edu.ar/'}, 'www.ayv.unrc.edu.ar': {'url': 'http://www.ayv.unrc.edu.ar', 'title': 'Inicio'}, 'www.exa.unrc.edu.ar': {'url': 'http://www.exa.unrc.edu.ar', 'title': 'página sin título', 'oferta': 'http://www.exa.unrc.edu.ar/carreras-de-grado/', 'formulario': 'http://www.exa.unrc.edu.ar/contacto'}, 'dmi.exa.unrc.edu.ar': {'url': 'http://dmi.exa.unrc.edu.ar', 'title': 'Departamento de Microbiología e Inmunología', 'formulario': 'http://www.exa.unrc.edu.ar'}, 'dq.exa.unrc.edu.ar': {'url': 'http://dq.exa.unrc.edu.ar', 'title': 'Departamento de Química | FCEFQyN - UNRC', 'formulario': 'http://www.exa.unrc.edu.ar'}, 'dmat.exa.unrc.edu.ar': {'url': 'http://dmat.exa.unrc.edu.ar', 'title': 'Departamento de Matemática | FCEFQyN - UNRC', 'formulario': 'http://www.siat.unrc.edu.ar/siat2/index.jsp'}, 'dc.exa.unrc.edu.ar': {'url': 'http://dc.exa.unrc.edu.ar', 'title': 'página sin título'}, 'geo.exa.unrc.edu.ar': {'url': 'http://geo.exa.unrc.edu.ar', 'title': 'Departamento de Geología'}, 'neutron.exa.unrc.edu.ar': {'url': 'http://neutron.exa.unrc.edu.ar', 'title': 'Site de la Facultad de Ciencias Exactas, Físico-Quimicas y Naturales - UNRC', 'formulario': 'http://www.exa.unrc.edu.ar'}}\n"
     ]
    },
    {
     "name": "stdout",
     "output_type": "stream",
     "text": [
      "dbm.exa.unrc.edu.ar, links: \n",
      "dbm.exa.unrc.edu.ar, oferta académica: \n",
      "[]\n",
      "dbm.exa.unrc.edu.ar, contacto: \n",
      "[]\n",
      "sitio  http://dbm.exa.unrc.edu.ar href:  http://www.unrc.edu.ar/\n",
      "encontré http\n"
     ]
    },
    {
     "name": "stderr",
     "output_type": "stream",
     "text": [
      "/home/bibiana/.conda/envs/taw/lib/python3.6/site-packages/urllib3/connectionpool.py:857: InsecureRequestWarning: Unverified HTTPS request is being made. Adding certificate verification is strongly advised. See: https://urllib3.readthedocs.io/en/latest/advanced-usage.html#ssl-warnings\n",
      "  InsecureRequestWarning)\n"
     ]
    },
    {
     "name": "stdout",
     "output_type": "stream",
     "text": [
      "sitio  http://dbm.exa.unrc.edu.ar href:  http://intra.exa.unrc.edu.ar/\n",
      "encontré http\n",
      "sitio  http://dbm.exa.unrc.edu.ar href:  http://dbm.exa.unrc.edu.ar\n",
      "encontré http\n",
      "sitio  http://dbm.exa.unrc.edu.ar href:  http://dbm.exa.unrc.edu.ar/Autoridades\n",
      "encontré http\n",
      "sitio  http://dbm.exa.unrc.edu.ar href:  http://dbm.exa.unrc.edu.ar/docente1\n",
      "encontré http\n",
      "sitio  http://dbm.exa.unrc.edu.ar href:  http://dbm.exa.unrc.edu.ar/materias\n",
      "encontré http\n",
      "sitio  http://dbm.exa.unrc.edu.ar href:  http://dbm.exa.unrc.edu.ar/Tecnico\n",
      "encontré http\n",
      "sitio  http://dbm.exa.unrc.edu.ar href:  http://dbm.exa.unrc.edu.ar/Materias\n",
      "encontré http\n",
      "sitio  http://dbm.exa.unrc.edu.ar href:  http://dbm.exa.unrc.edu.ar/Docencia\n",
      "encontré http\n",
      "sitio  http://dbm.exa.unrc.edu.ar href:  mailto:mgarrido@exa.unrc.edu.ar\n",
      "mailto:mgarrido@exa.unrc.edu.ar\n",
      "no pude splitear\n",
      "{'www.unrc.edu.ar': {'url': 'http://www.unrc.edu.ar', 'title': 'Universidad Nacional de Río Cuarto', 'oferta': 'https://www.unrc.edu.ar/unrc/estudiar/carreras.php', 'formulario': 'https://www.unrc.edu.ar/unrc/launiversidad/contacto.php'}, 'webmail.unrc.edu.ar': {'url': 'http://webmail.unrc.edu.ar', 'title': 'Horde :: WEBMAIL de la UNRC'}, 'sisinfo.unrc.edu.ar': {'url': 'http://sisinfo.unrc.edu.ar', 'title': 'Universidad Nacional de Río Cuarto', 'oferta': 'https://www.unrc.edu.ar/unrc/estudiar/carreras.php', 'formulario': 'https://www.unrc.edu.ar/unrc/launiversidad/contacto.php'}, 'www.siat.unrc.edu.ar': {'url': 'http://www.siat.unrc.edu.ar', 'title': 'Campus Virtual SIAT - Universidad Nacional de Río Cuarto', 'formulario': 'http://www.irc.unrc.edu.ar/'}, 'www.ing.unrc.edu.ar': {'url': 'http://www.ing.unrc.edu.ar', 'title': 'Facultad de Ingeniería - UNRC', 'formulario': 'http://correo.ing.unrc.edu.ar/'}, 'gma.ing.unrc.edu.ar': {'url': 'http://gma.ing.unrc.edu.ar', 'title': 'página no disponible'}, 'www.irc.unrc.edu.ar': {'url': 'http://www.irc.unrc.edu.ar', 'title': 'Secretaría de Extensión y Desarrollo UNRC – Centro de Capacitación y Desarrollo de Tecnologías de la Información y Comunicación', 'formulario': 'http://www.irc.unrc.edu.ar/'}, 'juanfilloy.bib.unrc.edu.ar': {'url': 'http://juanfilloy.bib.unrc.edu.ar', 'title': 'Biblioteca Central - Juan Filloy', 'formulario': 'http://juanfilloy.bib.unrc.edu.ar/adquisicion/php/pedidolibro-listado.php?fac=2'}, 'www.hum.unrc.edu.ar': {'url': 'http://www.hum.unrc.edu.ar', 'title': 'Facultad de Ciencias Humanas | UNIVERSIDAD NACIONAL DE RÍO CUARTO. ', 'oferta': 'http://www.hum.unrc.edu.ar/oferta-academica-de-grado-2/', 'formulario': 'http://www.hum.unrc.edu.ar/'}, 'www.eco.unrc.edu.ar': {'url': 'http://www.eco.unrc.edu.ar', 'title': 'FCE'}, 'app2.eco.unrc.edu.ar': {'url': 'http://app2.eco.unrc.edu.ar', 'title': 'Encuesta Docente', 'formulario': 'https://app2.eco.unrc.edu.ar/home'}, 'www.fce.unrc.edu.ar': {'url': 'http://www.fce.unrc.edu.ar', 'title': 'Facultad de Ciencias Economicas – Servicios Informaticos', 'formulario': 'https://www.fce.unrc.edu.ar/contacto/'}, 'revista.eco.unrc.edu.ar': {'url': 'http://revista.eco.unrc.edu.ar', 'title': 'página no disponible'}, 'www.extension.unrc.edu.ar': {'url': 'http://www.extension.unrc.edu.ar', 'title': 'Untitled Document'}, 'cepeiper.unrc.edu.ar': {'url': 'http://cepeiper.unrc.edu.ar', 'title': 'Tecnología Educativa - Universidad Nacional de Río Cuarto', 'oferta': 'https://cepeiper.unrc.edu.ar/?project=mediacion-de-materiales-para-carreras-a-distancia-de-la-facultad-ciencias-economicas', 'formulario': 'https://cepeiper.unrc.edu.ar/'}, 'www.edutec.unrc.edu.ar': {'url': 'http://www.edutec.unrc.edu.ar', 'title': 'Tecnología Educativa - Universidad Nacional de Río Cuarto', 'oferta': 'https://cepeiper.unrc.edu.ar/?project=mediacion-de-materiales-para-carreras-a-distancia-de-la-facultad-ciencias-economicas', 'formulario': 'https://cepeiper.unrc.edu.ar/'}, 'www.ayv.unrc.edu.ar': {'url': 'http://www.ayv.unrc.edu.ar', 'title': 'Inicio'}, 'www.exa.unrc.edu.ar': {'url': 'http://www.exa.unrc.edu.ar', 'title': 'página sin título', 'oferta': 'http://www.exa.unrc.edu.ar/carreras-de-grado/', 'formulario': 'http://www.exa.unrc.edu.ar/contacto'}, 'dmi.exa.unrc.edu.ar': {'url': 'http://dmi.exa.unrc.edu.ar', 'title': 'Departamento de Microbiología e Inmunología', 'formulario': 'http://www.exa.unrc.edu.ar'}, 'dq.exa.unrc.edu.ar': {'url': 'http://dq.exa.unrc.edu.ar', 'title': 'Departamento de Química | FCEFQyN - UNRC', 'formulario': 'http://www.exa.unrc.edu.ar'}, 'dmat.exa.unrc.edu.ar': {'url': 'http://dmat.exa.unrc.edu.ar', 'title': 'Departamento de Matemática | FCEFQyN - UNRC', 'formulario': 'http://www.siat.unrc.edu.ar/siat2/index.jsp'}, 'dc.exa.unrc.edu.ar': {'url': 'http://dc.exa.unrc.edu.ar', 'title': 'página sin título'}, 'geo.exa.unrc.edu.ar': {'url': 'http://geo.exa.unrc.edu.ar', 'title': 'Departamento de Geología'}, 'neutron.exa.unrc.edu.ar': {'url': 'http://neutron.exa.unrc.edu.ar', 'title': 'Site de la Facultad de Ciencias Exactas, Físico-Quimicas y Naturales - UNRC', 'formulario': 'http://www.exa.unrc.edu.ar'}, 'dbm.exa.unrc.edu.ar': {'url': 'http://dbm.exa.unrc.edu.ar', 'title': 'Departamento de Biología Molecular'}}\n",
      "dcn.exa.unrc.edu.ar, links: \n",
      "dcn.exa.unrc.edu.ar, oferta académica: \n",
      "['http://dcn.exa.unrc.edu.ar/carrerasgrado', 'http://dcn.exa.unrc.edu.ar/carreraspostgrado']\n",
      "sitio  http://dcn.exa.unrc.edu.ar href:  http://dcn.exa.unrc.edu.ar/carrerasgrado\n",
      "encontré http\n",
      "dcn.exa.unrc.edu.ar, contacto: \n",
      "[]\n",
      "sitio  http://dcn.exa.unrc.edu.ar href:  http://www.unrc.edu.ar\n",
      "encontré http\n"
     ]
    },
    {
     "name": "stderr",
     "output_type": "stream",
     "text": [
      "/home/bibiana/.conda/envs/taw/lib/python3.6/site-packages/urllib3/connectionpool.py:857: InsecureRequestWarning: Unverified HTTPS request is being made. Adding certificate verification is strongly advised. See: https://urllib3.readthedocs.io/en/latest/advanced-usage.html#ssl-warnings\n",
      "  InsecureRequestWarning)\n"
     ]
    },
    {
     "name": "stdout",
     "output_type": "stream",
     "text": [
      "sitio  http://dcn.exa.unrc.edu.ar href:  http://www.exa.unrc.edu.ar\n",
      "encontré http\n",
      "encontré form:  http://www.exa.unrc.edu.ar\n",
      "{'www.unrc.edu.ar': {'url': 'http://www.unrc.edu.ar', 'title': 'Universidad Nacional de Río Cuarto', 'oferta': 'https://www.unrc.edu.ar/unrc/estudiar/carreras.php', 'formulario': 'https://www.unrc.edu.ar/unrc/launiversidad/contacto.php'}, 'webmail.unrc.edu.ar': {'url': 'http://webmail.unrc.edu.ar', 'title': 'Horde :: WEBMAIL de la UNRC'}, 'sisinfo.unrc.edu.ar': {'url': 'http://sisinfo.unrc.edu.ar', 'title': 'Universidad Nacional de Río Cuarto', 'oferta': 'https://www.unrc.edu.ar/unrc/estudiar/carreras.php', 'formulario': 'https://www.unrc.edu.ar/unrc/launiversidad/contacto.php'}, 'www.siat.unrc.edu.ar': {'url': 'http://www.siat.unrc.edu.ar', 'title': 'Campus Virtual SIAT - Universidad Nacional de Río Cuarto', 'formulario': 'http://www.irc.unrc.edu.ar/'}, 'www.ing.unrc.edu.ar': {'url': 'http://www.ing.unrc.edu.ar', 'title': 'Facultad de Ingeniería - UNRC', 'formulario': 'http://correo.ing.unrc.edu.ar/'}, 'gma.ing.unrc.edu.ar': {'url': 'http://gma.ing.unrc.edu.ar', 'title': 'página no disponible'}, 'www.irc.unrc.edu.ar': {'url': 'http://www.irc.unrc.edu.ar', 'title': 'Secretaría de Extensión y Desarrollo UNRC – Centro de Capacitación y Desarrollo de Tecnologías de la Información y Comunicación', 'formulario': 'http://www.irc.unrc.edu.ar/'}, 'juanfilloy.bib.unrc.edu.ar': {'url': 'http://juanfilloy.bib.unrc.edu.ar', 'title': 'Biblioteca Central - Juan Filloy', 'formulario': 'http://juanfilloy.bib.unrc.edu.ar/adquisicion/php/pedidolibro-listado.php?fac=2'}, 'www.hum.unrc.edu.ar': {'url': 'http://www.hum.unrc.edu.ar', 'title': 'Facultad de Ciencias Humanas | UNIVERSIDAD NACIONAL DE RÍO CUARTO. ', 'oferta': 'http://www.hum.unrc.edu.ar/oferta-academica-de-grado-2/', 'formulario': 'http://www.hum.unrc.edu.ar/'}, 'www.eco.unrc.edu.ar': {'url': 'http://www.eco.unrc.edu.ar', 'title': 'FCE'}, 'app2.eco.unrc.edu.ar': {'url': 'http://app2.eco.unrc.edu.ar', 'title': 'Encuesta Docente', 'formulario': 'https://app2.eco.unrc.edu.ar/home'}, 'www.fce.unrc.edu.ar': {'url': 'http://www.fce.unrc.edu.ar', 'title': 'Facultad de Ciencias Economicas – Servicios Informaticos', 'formulario': 'https://www.fce.unrc.edu.ar/contacto/'}, 'revista.eco.unrc.edu.ar': {'url': 'http://revista.eco.unrc.edu.ar', 'title': 'página no disponible'}, 'www.extension.unrc.edu.ar': {'url': 'http://www.extension.unrc.edu.ar', 'title': 'Untitled Document'}, 'cepeiper.unrc.edu.ar': {'url': 'http://cepeiper.unrc.edu.ar', 'title': 'Tecnología Educativa - Universidad Nacional de Río Cuarto', 'oferta': 'https://cepeiper.unrc.edu.ar/?project=mediacion-de-materiales-para-carreras-a-distancia-de-la-facultad-ciencias-economicas', 'formulario': 'https://cepeiper.unrc.edu.ar/'}, 'www.edutec.unrc.edu.ar': {'url': 'http://www.edutec.unrc.edu.ar', 'title': 'Tecnología Educativa - Universidad Nacional de Río Cuarto', 'oferta': 'https://cepeiper.unrc.edu.ar/?project=mediacion-de-materiales-para-carreras-a-distancia-de-la-facultad-ciencias-economicas', 'formulario': 'https://cepeiper.unrc.edu.ar/'}, 'www.ayv.unrc.edu.ar': {'url': 'http://www.ayv.unrc.edu.ar', 'title': 'Inicio'}, 'www.exa.unrc.edu.ar': {'url': 'http://www.exa.unrc.edu.ar', 'title': 'página sin título', 'oferta': 'http://www.exa.unrc.edu.ar/carreras-de-grado/', 'formulario': 'http://www.exa.unrc.edu.ar/contacto'}, 'dmi.exa.unrc.edu.ar': {'url': 'http://dmi.exa.unrc.edu.ar', 'title': 'Departamento de Microbiología e Inmunología', 'formulario': 'http://www.exa.unrc.edu.ar'}, 'dq.exa.unrc.edu.ar': {'url': 'http://dq.exa.unrc.edu.ar', 'title': 'Departamento de Química | FCEFQyN - UNRC', 'formulario': 'http://www.exa.unrc.edu.ar'}, 'dmat.exa.unrc.edu.ar': {'url': 'http://dmat.exa.unrc.edu.ar', 'title': 'Departamento de Matemática | FCEFQyN - UNRC', 'formulario': 'http://www.siat.unrc.edu.ar/siat2/index.jsp'}, 'dc.exa.unrc.edu.ar': {'url': 'http://dc.exa.unrc.edu.ar', 'title': 'página sin título'}, 'geo.exa.unrc.edu.ar': {'url': 'http://geo.exa.unrc.edu.ar', 'title': 'Departamento de Geología'}, 'neutron.exa.unrc.edu.ar': {'url': 'http://neutron.exa.unrc.edu.ar', 'title': 'Site de la Facultad de Ciencias Exactas, Físico-Quimicas y Naturales - UNRC', 'formulario': 'http://www.exa.unrc.edu.ar'}, 'dbm.exa.unrc.edu.ar': {'url': 'http://dbm.exa.unrc.edu.ar', 'title': 'Departamento de Biología Molecular'}, 'dcn.exa.unrc.edu.ar': {'url': 'http://dcn.exa.unrc.edu.ar', 'title': 'Departamento de Ciencias Naturales', 'oferta': 'http://dcn.exa.unrc.edu.ar/carrerasgrado', 'formulario': 'http://www.exa.unrc.edu.ar'}}\n",
      "www.coro.unrc.edu.ar, links: \n",
      "www.coro.unrc.edu.ar, oferta académica: \n",
      "[]\n",
      "www.coro.unrc.edu.ar, contacto: \n",
      "[]\n",
      "{'www.unrc.edu.ar': {'url': 'http://www.unrc.edu.ar', 'title': 'Universidad Nacional de Río Cuarto', 'oferta': 'https://www.unrc.edu.ar/unrc/estudiar/carreras.php', 'formulario': 'https://www.unrc.edu.ar/unrc/launiversidad/contacto.php'}, 'webmail.unrc.edu.ar': {'url': 'http://webmail.unrc.edu.ar', 'title': 'Horde :: WEBMAIL de la UNRC'}, 'sisinfo.unrc.edu.ar': {'url': 'http://sisinfo.unrc.edu.ar', 'title': 'Universidad Nacional de Río Cuarto', 'oferta': 'https://www.unrc.edu.ar/unrc/estudiar/carreras.php', 'formulario': 'https://www.unrc.edu.ar/unrc/launiversidad/contacto.php'}, 'www.siat.unrc.edu.ar': {'url': 'http://www.siat.unrc.edu.ar', 'title': 'Campus Virtual SIAT - Universidad Nacional de Río Cuarto', 'formulario': 'http://www.irc.unrc.edu.ar/'}, 'www.ing.unrc.edu.ar': {'url': 'http://www.ing.unrc.edu.ar', 'title': 'Facultad de Ingeniería - UNRC', 'formulario': 'http://correo.ing.unrc.edu.ar/'}, 'gma.ing.unrc.edu.ar': {'url': 'http://gma.ing.unrc.edu.ar', 'title': 'página no disponible'}, 'www.irc.unrc.edu.ar': {'url': 'http://www.irc.unrc.edu.ar', 'title': 'Secretaría de Extensión y Desarrollo UNRC – Centro de Capacitación y Desarrollo de Tecnologías de la Información y Comunicación', 'formulario': 'http://www.irc.unrc.edu.ar/'}, 'juanfilloy.bib.unrc.edu.ar': {'url': 'http://juanfilloy.bib.unrc.edu.ar', 'title': 'Biblioteca Central - Juan Filloy', 'formulario': 'http://juanfilloy.bib.unrc.edu.ar/adquisicion/php/pedidolibro-listado.php?fac=2'}, 'www.hum.unrc.edu.ar': {'url': 'http://www.hum.unrc.edu.ar', 'title': 'Facultad de Ciencias Humanas | UNIVERSIDAD NACIONAL DE RÍO CUARTO. ', 'oferta': 'http://www.hum.unrc.edu.ar/oferta-academica-de-grado-2/', 'formulario': 'http://www.hum.unrc.edu.ar/'}, 'www.eco.unrc.edu.ar': {'url': 'http://www.eco.unrc.edu.ar', 'title': 'FCE'}, 'app2.eco.unrc.edu.ar': {'url': 'http://app2.eco.unrc.edu.ar', 'title': 'Encuesta Docente', 'formulario': 'https://app2.eco.unrc.edu.ar/home'}, 'www.fce.unrc.edu.ar': {'url': 'http://www.fce.unrc.edu.ar', 'title': 'Facultad de Ciencias Economicas – Servicios Informaticos', 'formulario': 'https://www.fce.unrc.edu.ar/contacto/'}, 'revista.eco.unrc.edu.ar': {'url': 'http://revista.eco.unrc.edu.ar', 'title': 'página no disponible'}, 'www.extension.unrc.edu.ar': {'url': 'http://www.extension.unrc.edu.ar', 'title': 'Untitled Document'}, 'cepeiper.unrc.edu.ar': {'url': 'http://cepeiper.unrc.edu.ar', 'title': 'Tecnología Educativa - Universidad Nacional de Río Cuarto', 'oferta': 'https://cepeiper.unrc.edu.ar/?project=mediacion-de-materiales-para-carreras-a-distancia-de-la-facultad-ciencias-economicas', 'formulario': 'https://cepeiper.unrc.edu.ar/'}, 'www.edutec.unrc.edu.ar': {'url': 'http://www.edutec.unrc.edu.ar', 'title': 'Tecnología Educativa - Universidad Nacional de Río Cuarto', 'oferta': 'https://cepeiper.unrc.edu.ar/?project=mediacion-de-materiales-para-carreras-a-distancia-de-la-facultad-ciencias-economicas', 'formulario': 'https://cepeiper.unrc.edu.ar/'}, 'www.ayv.unrc.edu.ar': {'url': 'http://www.ayv.unrc.edu.ar', 'title': 'Inicio'}, 'www.exa.unrc.edu.ar': {'url': 'http://www.exa.unrc.edu.ar', 'title': 'página sin título', 'oferta': 'http://www.exa.unrc.edu.ar/carreras-de-grado/', 'formulario': 'http://www.exa.unrc.edu.ar/contacto'}, 'dmi.exa.unrc.edu.ar': {'url': 'http://dmi.exa.unrc.edu.ar', 'title': 'Departamento de Microbiología e Inmunología', 'formulario': 'http://www.exa.unrc.edu.ar'}, 'dq.exa.unrc.edu.ar': {'url': 'http://dq.exa.unrc.edu.ar', 'title': 'Departamento de Química | FCEFQyN - UNRC', 'formulario': 'http://www.exa.unrc.edu.ar'}, 'dmat.exa.unrc.edu.ar': {'url': 'http://dmat.exa.unrc.edu.ar', 'title': 'Departamento de Matemática | FCEFQyN - UNRC', 'formulario': 'http://www.siat.unrc.edu.ar/siat2/index.jsp'}, 'dc.exa.unrc.edu.ar': {'url': 'http://dc.exa.unrc.edu.ar', 'title': 'página sin título'}, 'geo.exa.unrc.edu.ar': {'url': 'http://geo.exa.unrc.edu.ar', 'title': 'Departamento de Geología'}, 'neutron.exa.unrc.edu.ar': {'url': 'http://neutron.exa.unrc.edu.ar', 'title': 'Site de la Facultad de Ciencias Exactas, Físico-Quimicas y Naturales - UNRC', 'formulario': 'http://www.exa.unrc.edu.ar'}, 'dbm.exa.unrc.edu.ar': {'url': 'http://dbm.exa.unrc.edu.ar', 'title': 'Departamento de Biología Molecular'}, 'dcn.exa.unrc.edu.ar': {'url': 'http://dcn.exa.unrc.edu.ar', 'title': 'Departamento de Ciencias Naturales', 'oferta': 'http://dcn.exa.unrc.edu.ar/carrerasgrado', 'formulario': 'http://www.exa.unrc.edu.ar'}, 'www.coro.unrc.edu.ar': {'url': 'http://www.coro.unrc.edu.ar', 'title': 'Coro - UNRC'}}\n",
      "{'www.unrc.edu.ar': {'url': 'http://www.unrc.edu.ar', 'title': 'Universidad Nacional de Río Cuarto', 'oferta': 'https://www.unrc.edu.ar/unrc/estudiar/carreras.php', 'formulario': 'https://www.unrc.edu.ar/unrc/launiversidad/contacto.php'}, 'webmail.unrc.edu.ar': {'url': 'http://webmail.unrc.edu.ar', 'title': 'Horde :: WEBMAIL de la UNRC'}, 'sisinfo.unrc.edu.ar': {'url': 'http://sisinfo.unrc.edu.ar', 'title': 'Universidad Nacional de Río Cuarto', 'oferta': 'https://www.unrc.edu.ar/unrc/estudiar/carreras.php', 'formulario': 'https://www.unrc.edu.ar/unrc/launiversidad/contacto.php'}, 'www.siat.unrc.edu.ar': {'url': 'http://www.siat.unrc.edu.ar', 'title': 'Campus Virtual SIAT - Universidad Nacional de Río Cuarto', 'formulario': 'http://www.irc.unrc.edu.ar/'}, 'www.ing.unrc.edu.ar': {'url': 'http://www.ing.unrc.edu.ar', 'title': 'Facultad de Ingeniería - UNRC', 'formulario': 'http://correo.ing.unrc.edu.ar/'}, 'gma.ing.unrc.edu.ar': {'url': 'http://gma.ing.unrc.edu.ar', 'title': 'página no disponible'}, 'www.irc.unrc.edu.ar': {'url': 'http://www.irc.unrc.edu.ar', 'title': 'Secretaría de Extensión y Desarrollo UNRC – Centro de Capacitación y Desarrollo de Tecnologías de la Información y Comunicación', 'formulario': 'http://www.irc.unrc.edu.ar/'}, 'juanfilloy.bib.unrc.edu.ar': {'url': 'http://juanfilloy.bib.unrc.edu.ar', 'title': 'Biblioteca Central - Juan Filloy', 'formulario': 'http://juanfilloy.bib.unrc.edu.ar/adquisicion/php/pedidolibro-listado.php?fac=2'}, 'www.hum.unrc.edu.ar': {'url': 'http://www.hum.unrc.edu.ar', 'title': 'Facultad de Ciencias Humanas | UNIVERSIDAD NACIONAL DE RÍO CUARTO. ', 'oferta': 'http://www.hum.unrc.edu.ar/oferta-academica-de-grado-2/', 'formulario': 'http://www.hum.unrc.edu.ar/'}, 'www.eco.unrc.edu.ar': {'url': 'http://www.eco.unrc.edu.ar', 'title': 'FCE'}, 'app2.eco.unrc.edu.ar': {'url': 'http://app2.eco.unrc.edu.ar', 'title': 'Encuesta Docente', 'formulario': 'https://app2.eco.unrc.edu.ar/home'}, 'www.fce.unrc.edu.ar': {'url': 'http://www.fce.unrc.edu.ar', 'title': 'Facultad de Ciencias Economicas – Servicios Informaticos', 'formulario': 'https://www.fce.unrc.edu.ar/contacto/'}, 'revista.eco.unrc.edu.ar': {'url': 'http://revista.eco.unrc.edu.ar', 'title': 'página no disponible'}, 'www.extension.unrc.edu.ar': {'url': 'http://www.extension.unrc.edu.ar', 'title': 'Untitled Document'}, 'cepeiper.unrc.edu.ar': {'url': 'http://cepeiper.unrc.edu.ar', 'title': 'Tecnología Educativa - Universidad Nacional de Río Cuarto', 'oferta': 'https://cepeiper.unrc.edu.ar/?project=mediacion-de-materiales-para-carreras-a-distancia-de-la-facultad-ciencias-economicas', 'formulario': 'https://cepeiper.unrc.edu.ar/'}, 'www.edutec.unrc.edu.ar': {'url': 'http://www.edutec.unrc.edu.ar', 'title': 'Tecnología Educativa - Universidad Nacional de Río Cuarto', 'oferta': 'https://cepeiper.unrc.edu.ar/?project=mediacion-de-materiales-para-carreras-a-distancia-de-la-facultad-ciencias-economicas', 'formulario': 'https://cepeiper.unrc.edu.ar/'}, 'www.ayv.unrc.edu.ar': {'url': 'http://www.ayv.unrc.edu.ar', 'title': 'Inicio'}, 'www.exa.unrc.edu.ar': {'url': 'http://www.exa.unrc.edu.ar', 'title': 'página sin título', 'oferta': 'http://www.exa.unrc.edu.ar/carreras-de-grado/', 'formulario': 'http://www.exa.unrc.edu.ar/contacto'}, 'dmi.exa.unrc.edu.ar': {'url': 'http://dmi.exa.unrc.edu.ar', 'title': 'Departamento de Microbiología e Inmunología', 'formulario': 'http://www.exa.unrc.edu.ar'}, 'dq.exa.unrc.edu.ar': {'url': 'http://dq.exa.unrc.edu.ar', 'title': 'Departamento de Química | FCEFQyN - UNRC', 'formulario': 'http://www.exa.unrc.edu.ar'}, 'dmat.exa.unrc.edu.ar': {'url': 'http://dmat.exa.unrc.edu.ar', 'title': 'Departamento de Matemática | FCEFQyN - UNRC', 'formulario': 'http://www.siat.unrc.edu.ar/siat2/index.jsp'}, 'dc.exa.unrc.edu.ar': {'url': 'http://dc.exa.unrc.edu.ar', 'title': 'página sin título'}, 'geo.exa.unrc.edu.ar': {'url': 'http://geo.exa.unrc.edu.ar', 'title': 'Departamento de Geología'}, 'neutron.exa.unrc.edu.ar': {'url': 'http://neutron.exa.unrc.edu.ar', 'title': 'Site de la Facultad de Ciencias Exactas, Físico-Quimicas y Naturales - UNRC', 'formulario': 'http://www.exa.unrc.edu.ar'}, 'dbm.exa.unrc.edu.ar': {'url': 'http://dbm.exa.unrc.edu.ar', 'title': 'Departamento de Biología Molecular'}, 'dcn.exa.unrc.edu.ar': {'url': 'http://dcn.exa.unrc.edu.ar', 'title': 'Departamento de Ciencias Naturales', 'oferta': 'http://dcn.exa.unrc.edu.ar/carrerasgrado', 'formulario': 'http://www.exa.unrc.edu.ar'}, 'www.coro.unrc.edu.ar': {'url': 'http://www.coro.unrc.edu.ar', 'title': 'Coro - UNRC'}, 'cursos.ing.unrc.edu.ar': {'url': 'http://cursos.ing.unrc.edu.ar', 'title': 'página no disponible'}}\n"
     ]
    },
    {
     "name": "stderr",
     "output_type": "stream",
     "text": [
      "/home/bibiana/.conda/envs/taw/lib/python3.6/site-packages/urllib3/connectionpool.py:857: InsecureRequestWarning: Unverified HTTPS request is being made. Adding certificate verification is strongly advised. See: https://urllib3.readthedocs.io/en/latest/advanced-usage.html#ssl-warnings\n",
      "  InsecureRequestWarning)\n"
     ]
    }
   ],
   "source": [
    "diccionarios = {}\n",
    "for site in df[0]:\n",
    "    url = 'http://' + site\n",
    "    try:\n",
    "        r = requests.get(url, verify=False)\n",
    "        soup = BeautifulSoup(r.text)\n",
    "        title = title_finder(soup)\n",
    "\n",
    "        if title:\n",
    "            diccionarios[site] = {'url': url, 'title': title}\n",
    "        else:\n",
    "            diccionarios[site] = {'url': url, 'title': 'página sin título'}\n",
    "            \n",
    "        diccionarios[site] = url_to_dict(diccionarios[site], soup)\n",
    "    \n",
    "    #except (MaxRetryError or ConnectionRefusedError or NewConnectionError):\n",
    "    except:\n",
    "        diccionarios[site] = {'url': url, 'title': 'página no disponible'}\n",
    "        \n",
    "    print(diccionarios)"
   ]
  },
  {
   "cell_type": "code",
   "execution_count": 18,
   "metadata": {
    "scrolled": true
   },
   "outputs": [
    {
     "name": "stdout",
     "output_type": "stream",
     "text": [
      "url                                      http://www.unrc.edu.ar\n",
      "oferta        https://www.unrc.edu.ar/unrc/estudiar/carreras...\n",
      "formulario    https://www.unrc.edu.ar/unrc/launiversidad/con...\n",
      "Name: 0, dtype: object\n",
      "3 urls already downloaded\n",
      "Downloading http://www.unrc.edu.ar\n",
      "\n",
      "Already download, skip http://www.unrc.edu.ar\n",
      "\n",
      "Downloading https://www.unrc.edu.ar/unrc/estudiar/carreras.php\n",
      "\n",
      "Already download, skip https://www.unrc.edu.ar/unrc/estudiar/carreras.php\n",
      "\n",
      "Downloading https://www.unrc.edu.ar/unrc/launiversidad/contacto.php\n",
      "\n",
      "Already download, skip https://www.unrc.edu.ar/unrc/launiversidad/contacto.php\n",
      "\n",
      "www.unrc.edu.ar  taw exitoso\n",
      "url                                  http://sisinfo.unrc.edu.ar\n",
      "oferta        https://www.unrc.edu.ar/unrc/estudiar/carreras...\n",
      "formulario    https://www.unrc.edu.ar/unrc/launiversidad/con...\n",
      "Name: 0, dtype: object\n",
      "3 urls already downloaded\n",
      "Downloading http://sisinfo.unrc.edu.ar\n",
      "\n",
      "Already download, skip http://sisinfo.unrc.edu.ar\n",
      "\n",
      "Downloading https://www.unrc.edu.ar/unrc/estudiar/carreras.php\n",
      "\n",
      "Already download, skip https://www.unrc.edu.ar/unrc/estudiar/carreras.php\n",
      "\n",
      "Downloading https://www.unrc.edu.ar/unrc/launiversidad/contacto.php\n",
      "\n",
      "Already download, skip https://www.unrc.edu.ar/unrc/launiversidad/contacto.php\n",
      "\n",
      "sisinfo.unrc.edu.ar  taw exitoso\n",
      "url           http://www.siat.unrc.edu.ar\n",
      "formulario    http://www.irc.unrc.edu.ar/\n",
      "Name: 0, dtype: object\n",
      "2 urls already downloaded\n",
      "Downloading http://www.siat.unrc.edu.ar\n",
      "\n",
      "Already download, skip http://www.siat.unrc.edu.ar\n",
      "\n",
      "Downloading http://www.irc.unrc.edu.ar/\n",
      "\n",
      "Already download, skip http://www.irc.unrc.edu.ar/\n",
      "\n",
      "www.siat.unrc.edu.ar  taw exitoso\n",
      "url               http://www.ing.unrc.edu.ar\n",
      "formulario    http://correo.ing.unrc.edu.ar/\n",
      "Name: 0, dtype: object\n",
      "2 urls already downloaded\n",
      "Downloading http://www.ing.unrc.edu.ar\n",
      "\n",
      "Already download, skip http://www.ing.unrc.edu.ar\n",
      "\n",
      "Downloading http://correo.ing.unrc.edu.ar/\n",
      "\n",
      "Already download, skip http://correo.ing.unrc.edu.ar/\n",
      "\n",
      "www.ing.unrc.edu.ar  taw exitoso\n",
      "url            http://www.irc.unrc.edu.ar\n",
      "formulario    http://www.irc.unrc.edu.ar/\n",
      "Name: 0, dtype: object\n",
      "2 urls already downloaded\n",
      "Downloading http://www.irc.unrc.edu.ar\n",
      "\n",
      "Already download, skip http://www.irc.unrc.edu.ar\n",
      "\n",
      "Downloading http://www.irc.unrc.edu.ar/\n",
      "\n",
      "Already download, skip http://www.irc.unrc.edu.ar/\n",
      "\n",
      "www.irc.unrc.edu.ar  taw exitoso\n",
      "url                           http://juanfilloy.bib.unrc.edu.ar\n",
      "formulario    http://juanfilloy.bib.unrc.edu.ar/adquisicion/...\n",
      "Name: 0, dtype: object\n",
      "2 urls already downloaded\n",
      "Downloading http://juanfilloy.bib.unrc.edu.ar\n",
      "\n",
      "Already download, skip http://juanfilloy.bib.unrc.edu.ar\n",
      "\n",
      "Downloading http://juanfilloy.bib.unrc.edu.ar/adquisicion/php/pedidolibro-listado.php?fac=2\n",
      "\n",
      "Already download, skip http://juanfilloy.bib.unrc.edu.ar/adquisicion/php/pedidolibro-listado.php?fac=2\n",
      "\n",
      "juanfilloy.bib.unrc.edu.ar  taw exitoso\n",
      "url                                  http://www.hum.unrc.edu.ar\n",
      "oferta        http://www.hum.unrc.edu.ar/oferta-academica-de...\n",
      "formulario                          http://www.hum.unrc.edu.ar/\n",
      "Name: 0, dtype: object\n",
      "3 urls already downloaded\n",
      "Downloading http://www.hum.unrc.edu.ar\n",
      "\n",
      "Already download, skip http://www.hum.unrc.edu.ar\n",
      "\n",
      "Downloading http://www.hum.unrc.edu.ar/oferta-academica-de-grado-2/\n",
      "\n",
      "Already download, skip http://www.hum.unrc.edu.ar/oferta-academica-de-grado-2/\n",
      "\n",
      "Downloading http://www.hum.unrc.edu.ar/\n",
      "\n",
      "Already download, skip http://www.hum.unrc.edu.ar/\n",
      "\n",
      "www.hum.unrc.edu.ar  taw exitoso\n",
      "url                 http://app2.eco.unrc.edu.ar\n",
      "formulario    https://app2.eco.unrc.edu.ar/home\n",
      "Name: 0, dtype: object\n",
      "2 urls already downloaded\n",
      "Downloading http://app2.eco.unrc.edu.ar\n",
      "\n",
      "Already download, skip http://app2.eco.unrc.edu.ar\n",
      "\n",
      "Downloading https://app2.eco.unrc.edu.ar/home\n",
      "\n",
      "Already download, skip https://app2.eco.unrc.edu.ar/home\n",
      "\n",
      "app2.eco.unrc.edu.ar  taw exitoso\n",
      "url                      http://www.fce.unrc.edu.ar\n",
      "formulario    https://www.fce.unrc.edu.ar/contacto/\n",
      "Name: 0, dtype: object\n",
      "2 urls already downloaded\n",
      "Downloading http://www.fce.unrc.edu.ar\n",
      "\n",
      "Already download, skip http://www.fce.unrc.edu.ar\n",
      "\n",
      "Downloading https://www.fce.unrc.edu.ar/contacto/\n",
      "\n",
      "Already download, skip https://www.fce.unrc.edu.ar/contacto/\n",
      "\n",
      "www.fce.unrc.edu.ar  taw exitoso\n",
      "url                                 http://cepeiper.unrc.edu.ar\n",
      "oferta        https://cepeiper.unrc.edu.ar/?project=mediacio...\n",
      "formulario                        https://cepeiper.unrc.edu.ar/\n",
      "Name: 0, dtype: object\n",
      "3 urls already downloaded\n",
      "Downloading http://cepeiper.unrc.edu.ar\n",
      "\n",
      "Already download, skip http://cepeiper.unrc.edu.ar\n",
      "\n",
      "Downloading https://cepeiper.unrc.edu.ar/?project=mediacion-de-materiales-para-carreras-a-distancia-de-la-facultad-ciencias-economicas\n",
      "\n",
      "Already download, skip https://cepeiper.unrc.edu.ar/?project=mediacion-de-materiales-para-carreras-a-distancia-de-la-facultad-ciencias-economicas\n",
      "\n",
      "Downloading https://cepeiper.unrc.edu.ar/\n",
      "\n",
      "Already download, skip https://cepeiper.unrc.edu.ar/\n",
      "\n",
      "cepeiper.unrc.edu.ar  taw exitoso\n",
      "url                               http://www.edutec.unrc.edu.ar\n",
      "oferta        https://cepeiper.unrc.edu.ar/?project=mediacio...\n",
      "formulario                        https://cepeiper.unrc.edu.ar/\n",
      "Name: 0, dtype: object\n",
      "3 urls already downloaded\n",
      "Downloading http://www.edutec.unrc.edu.ar\n",
      "\n",
      "Already download, skip http://www.edutec.unrc.edu.ar\n",
      "\n",
      "Downloading https://cepeiper.unrc.edu.ar/?project=mediacion-de-materiales-para-carreras-a-distancia-de-la-facultad-ciencias-economicas\n",
      "\n",
      "Already download, skip https://cepeiper.unrc.edu.ar/?project=mediacion-de-materiales-para-carreras-a-distancia-de-la-facultad-ciencias-economicas\n",
      "\n",
      "Downloading https://cepeiper.unrc.edu.ar/\n",
      "\n",
      "Already download, skip https://cepeiper.unrc.edu.ar/\n",
      "\n",
      "www.edutec.unrc.edu.ar  taw exitoso\n",
      "url                              http://www.exa.unrc.edu.ar\n",
      "oferta        http://www.exa.unrc.edu.ar/carreras-de-grado/\n",
      "formulario              http://www.exa.unrc.edu.ar/contacto\n",
      "Name: 0, dtype: object\n",
      "3 urls already downloaded\n",
      "Downloading http://www.exa.unrc.edu.ar\n",
      "\n",
      "Already download, skip http://www.exa.unrc.edu.ar\n",
      "\n",
      "Downloading http://www.exa.unrc.edu.ar/carreras-de-grado/\n",
      "\n",
      "Already download, skip http://www.exa.unrc.edu.ar/carreras-de-grado/\n",
      "\n",
      "Downloading http://www.exa.unrc.edu.ar/contacto\n",
      "\n",
      "Already download, skip http://www.exa.unrc.edu.ar/contacto\n",
      "\n",
      "www.exa.unrc.edu.ar  taw exitoso\n",
      "url           http://dmi.exa.unrc.edu.ar\n",
      "formulario    http://www.exa.unrc.edu.ar\n",
      "Name: 0, dtype: object\n",
      "2 urls already downloaded\n",
      "Downloading http://dmi.exa.unrc.edu.ar\n",
      "\n",
      "Already download, skip http://dmi.exa.unrc.edu.ar\n",
      "\n",
      "Downloading http://www.exa.unrc.edu.ar\n",
      "\n",
      "Already download, skip http://www.exa.unrc.edu.ar\n",
      "\n",
      "dmi.exa.unrc.edu.ar  taw exitoso\n",
      "url            http://dq.exa.unrc.edu.ar\n",
      "formulario    http://www.exa.unrc.edu.ar\n",
      "Name: 0, dtype: object\n",
      "2 urls already downloaded\n",
      "Downloading http://dq.exa.unrc.edu.ar\n",
      "\n",
      "Already download, skip http://dq.exa.unrc.edu.ar\n",
      "\n",
      "Downloading http://www.exa.unrc.edu.ar\n",
      "\n",
      "Already download, skip http://www.exa.unrc.edu.ar\n",
      "\n",
      "dq.exa.unrc.edu.ar  taw exitoso\n",
      "url                           http://dmat.exa.unrc.edu.ar\n",
      "formulario    http://www.siat.unrc.edu.ar/siat2/index.jsp\n",
      "Name: 0, dtype: object\n",
      "2 urls already downloaded\n",
      "Downloading http://dmat.exa.unrc.edu.ar\n",
      "\n",
      "Already download, skip http://dmat.exa.unrc.edu.ar\n",
      "\n",
      "Downloading http://www.siat.unrc.edu.ar/siat2/index.jsp\n",
      "\n",
      "Already download, skip http://www.siat.unrc.edu.ar/siat2/index.jsp\n",
      "\n",
      "dmat.exa.unrc.edu.ar  taw exitoso\n",
      "url           http://neutron.exa.unrc.edu.ar\n",
      "formulario        http://www.exa.unrc.edu.ar\n",
      "Name: 0, dtype: object\n",
      "2 urls already downloaded\n",
      "Downloading http://neutron.exa.unrc.edu.ar\n",
      "\n",
      "Already download, skip http://neutron.exa.unrc.edu.ar\n",
      "\n",
      "Downloading http://www.exa.unrc.edu.ar\n",
      "\n",
      "Already download, skip http://www.exa.unrc.edu.ar\n",
      "\n",
      "neutron.exa.unrc.edu.ar  taw exitoso\n",
      "url                         http://dcn.exa.unrc.edu.ar\n",
      "oferta        http://dcn.exa.unrc.edu.ar/carrerasgrado\n",
      "formulario                  http://www.exa.unrc.edu.ar\n",
      "Name: 0, dtype: object\n",
      "2 urls already downloaded\n",
      "Downloading http://dcn.exa.unrc.edu.ar\n",
      "\n",
      "Already download, skip http://dcn.exa.unrc.edu.ar\n",
      "\n",
      "Downloading http://dcn.exa.unrc.edu.ar/carrerasgrado\n",
      "\n",
      "Already download, skip http://dcn.exa.unrc.edu.ar/carrerasgrado\n",
      "\n",
      "Downloading http://www.exa.unrc.edu.ar\n",
      "\n"
     ]
    },
    {
     "name": "stdout",
     "output_type": "stream",
     "text": [
      "dcn.exa.unrc.edu.ar  taw exitoso\n"
     ]
    }
   ],
   "source": [
    "for key in diccionarios.keys():\n",
    "    tmp_dict = {'url': diccionarios[key]['url']}\n",
    "    \n",
    "    if 'oferta' in diccionarios[key].keys():\n",
    "        tmp_dict['oferta'] = diccionarios[key]['oferta']\n",
    "        \n",
    "    if 'formulario' in diccionarios[key].keys():\n",
    "        tmp_dict['formulario'] = diccionarios[key]['formulario']\n",
    "        \n",
    "        tmp_df = pd.DataFrame.from_dict(tmp_dict, orient='index', columns=None)\n",
    "        nombre_archivo = 'archivos/' + key + '.csv'\n",
    "        print(tmp_df[0])\n",
    "        \n",
    "        tmp_df[0].to_csv(nombre_archivo, index=False)\n",
    "        nombre_salida = 'archivos/' + key + '_resultado'\n",
    "        !python taw_scraper.py -f /home/bibiana/usr/firefox/firefox -r $nombre_archivo $nombre_salida\n",
    "        \n",
    "        try:\n",
    "            df_res = pd.read_json(path_or_buf=nombre_salida, lines=True)\n",
    "            diccionarios[key]['taw_analysis'] = df_res\n",
    "            print(key, ' taw exitoso')\n",
    "        except (EmptyDataError or FileNotFoundError):\n",
    "            diccionarios[key]['taw_analysis'] = False\n",
    "            print(key, ' taw efallido')"
   ]
  },
  {
   "cell_type": "code",
   "execution_count": 19,
   "metadata": {},
   "outputs": [],
   "source": [
    "def lvl_A_finder(df):\n",
    "    df_lvl_A = pd.DataFrame()\n",
    "    for column in df.columns:\n",
    "        if 'result' in column:\n",
    "            column_lvl = column[:-6] + 'level'\n",
    "            df_lvl_A[column] = df[(df[column_lvl] == 'A')][column]\n",
    "    return(df_lvl_A)"
   ]
  },
  {
   "cell_type": "code",
   "execution_count": 20,
   "metadata": {},
   "outputs": [],
   "source": [
    "def final_taw_result(result_list):\n",
    "    if any(result == 'Fail' for result in result_list):\n",
    "        final_result = 'Fail'\n",
    "    elif any(result == 'Pass' for result in result_list):\n",
    "        final_result = 'Pass'\n",
    "    elif all(result == 'na' for result in result_list):\n",
    "        final_result = 'na'\n",
    "    else:\n",
    "        final_result = ' '\n",
    "    return(final_result)"
   ]
  },
  {
   "cell_type": "code",
   "execution_count": 21,
   "metadata": {},
   "outputs": [],
   "source": [
    "def taw_result(df_lvl_A):\n",
    "    final_dict = {}\n",
    "    for column in df_lvl_A.columns:\n",
    "        result_list = df_lvl_A[column].tolist()\n",
    "        final_dict[column] = final_taw_result(result_list)\n",
    "    return final_dict"
   ]
  },
  {
   "cell_type": "code",
   "execution_count": 78,
   "metadata": {
    "scrolled": true
   },
   "outputs": [
    {
     "name": "stdout",
     "output_type": "stream",
     "text": [
      "www.unrc.edu.ar\n",
      "webmail.unrc.edu.ar\n",
      "sisinfo.unrc.edu.ar\n",
      "www.siat.unrc.edu.ar\n",
      "www.ing.unrc.edu.ar\n",
      "gma.ing.unrc.edu.ar\n",
      "www.irc.unrc.edu.ar\n",
      "juanfilloy.bib.unrc.edu.ar\n",
      "www.hum.unrc.edu.ar\n",
      "www.eco.unrc.edu.ar\n",
      "app2.eco.unrc.edu.ar\n",
      "www.fce.unrc.edu.ar\n",
      "revista.eco.unrc.edu.ar\n",
      "www.extension.unrc.edu.ar\n",
      "cepeiper.unrc.edu.ar\n",
      "www.edutec.unrc.edu.ar\n",
      "www.ayv.unrc.edu.ar\n",
      "www.exa.unrc.edu.ar\n",
      "dmi.exa.unrc.edu.ar\n",
      "dq.exa.unrc.edu.ar\n",
      "dmat.exa.unrc.edu.ar\n",
      "dc.exa.unrc.edu.ar\n",
      "geo.exa.unrc.edu.ar\n",
      "neutron.exa.unrc.edu.ar\n",
      "dbm.exa.unrc.edu.ar\n",
      "dcn.exa.unrc.edu.ar\n",
      "www.coro.unrc.edu.ar\n",
      "cursos.ing.unrc.edu.ar\n"
     ]
    }
   ],
   "source": [
    "for key in diccionarios.keys():\n",
    "    print(key)\n",
    "    try:\n",
    "        df_tmp = diccionarios[key]['taw_analysis']\n",
    "        diccionarios[key]['taw_result_A'] = lvl_A_finder(df_tmp)\n",
    "        diccionarios[key]['final_result'] = taw_result(diccionarios[key]['taw_result_A'])\n",
    "        diccionarios[key]['final_result']['resource'] = key\n",
    "    except KeyError:\n",
    "        pass\n",
    "    except AttributeError:\n",
    "        pass"
   ]
  },
  {
   "cell_type": "code",
   "execution_count": 79,
   "metadata": {},
   "outputs": [],
   "source": [
    "dict_list = []\n",
    "for key in diccionarios.keys():\n",
    "    if 'final_result' in diccionarios[key].keys():\n",
    "        dict_list.append(diccionarios[key]['final_result'])\n",
    "\n",
    "final_df = pd.DataFrame(dict_list)"
   ]
  },
  {
   "cell_type": "code",
   "execution_count": 80,
   "metadata": {},
   "outputs": [],
   "source": [
    "# Realizo conteo para resultados \"pass\", \"fail\" y \"na\"\n",
    "final_df['pass_lvl_A_count'] = final_df[final_df == 'Pass'].count(axis=1)\n",
    "final_df['fail_lvl_A_count'] = final_df[final_df == 'Fail'].count(axis=1)\n",
    "final_df['na_lvl_A_count'] = final_df[final_df == 'na'].count(axis=1)"
   ]
  },
  {
   "cell_type": "code",
   "execution_count": 81,
   "metadata": {},
   "outputs": [],
   "source": [
    "final_df['score_lvl_A'] = (final_df['pass_lvl_A_count'] + final_df['na_lvl_A_count'])*4"
   ]
  },
  {
   "cell_type": "code",
   "execution_count": 82,
   "metadata": {},
   "outputs": [
    {
     "data": {
      "text/html": [
       "<div>\n",
       "<style scoped>\n",
       "    .dataframe tbody tr th:only-of-type {\n",
       "        vertical-align: middle;\n",
       "    }\n",
       "\n",
       "    .dataframe tbody tr th {\n",
       "        vertical-align: top;\n",
       "    }\n",
       "\n",
       "    .dataframe thead th {\n",
       "        text-align: right;\n",
       "    }\n",
       "</style>\n",
       "<table border=\"1\" class=\"dataframe\">\n",
       "  <thead>\n",
       "    <tr style=\"text-align: right;\">\n",
       "      <th></th>\n",
       "      <th>resource</th>\n",
       "      <th>pass_lvl_A_count</th>\n",
       "      <th>fail_lvl_A_count</th>\n",
       "      <th>na_lvl_A_count</th>\n",
       "      <th>score_lvl_A</th>\n",
       "    </tr>\n",
       "  </thead>\n",
       "  <tbody>\n",
       "    <tr>\n",
       "      <th>7</th>\n",
       "      <td>app2.eco.unrc.edu.ar</td>\n",
       "      <td>3</td>\n",
       "      <td>4</td>\n",
       "      <td>5</td>\n",
       "      <td>32</td>\n",
       "    </tr>\n",
       "    <tr>\n",
       "      <th>9</th>\n",
       "      <td>cepeiper.unrc.edu.ar</td>\n",
       "      <td>3</td>\n",
       "      <td>6</td>\n",
       "      <td>4</td>\n",
       "      <td>28</td>\n",
       "    </tr>\n",
       "    <tr>\n",
       "      <th>10</th>\n",
       "      <td>www.edutec.unrc.edu.ar</td>\n",
       "      <td>3</td>\n",
       "      <td>6</td>\n",
       "      <td>4</td>\n",
       "      <td>28</td>\n",
       "    </tr>\n",
       "    <tr>\n",
       "      <th>8</th>\n",
       "      <td>www.fce.unrc.edu.ar</td>\n",
       "      <td>2</td>\n",
       "      <td>4</td>\n",
       "      <td>4</td>\n",
       "      <td>24</td>\n",
       "    </tr>\n",
       "    <tr>\n",
       "      <th>15</th>\n",
       "      <td>neutron.exa.unrc.edu.ar</td>\n",
       "      <td>2</td>\n",
       "      <td>6</td>\n",
       "      <td>4</td>\n",
       "      <td>24</td>\n",
       "    </tr>\n",
       "    <tr>\n",
       "      <th>13</th>\n",
       "      <td>dq.exa.unrc.edu.ar</td>\n",
       "      <td>2</td>\n",
       "      <td>6</td>\n",
       "      <td>4</td>\n",
       "      <td>24</td>\n",
       "    </tr>\n",
       "    <tr>\n",
       "      <th>12</th>\n",
       "      <td>dmi.exa.unrc.edu.ar</td>\n",
       "      <td>1</td>\n",
       "      <td>7</td>\n",
       "      <td>4</td>\n",
       "      <td>20</td>\n",
       "    </tr>\n",
       "    <tr>\n",
       "      <th>11</th>\n",
       "      <td>www.exa.unrc.edu.ar</td>\n",
       "      <td>1</td>\n",
       "      <td>7</td>\n",
       "      <td>4</td>\n",
       "      <td>20</td>\n",
       "    </tr>\n",
       "    <tr>\n",
       "      <th>0</th>\n",
       "      <td>www.unrc.edu.ar</td>\n",
       "      <td>1</td>\n",
       "      <td>5</td>\n",
       "      <td>4</td>\n",
       "      <td>20</td>\n",
       "    </tr>\n",
       "    <tr>\n",
       "      <th>6</th>\n",
       "      <td>www.hum.unrc.edu.ar</td>\n",
       "      <td>1</td>\n",
       "      <td>6</td>\n",
       "      <td>4</td>\n",
       "      <td>20</td>\n",
       "    </tr>\n",
       "    <tr>\n",
       "      <th>5</th>\n",
       "      <td>juanfilloy.bib.unrc.edu.ar</td>\n",
       "      <td>1</td>\n",
       "      <td>7</td>\n",
       "      <td>4</td>\n",
       "      <td>20</td>\n",
       "    </tr>\n",
       "    <tr>\n",
       "      <th>4</th>\n",
       "      <td>www.irc.unrc.edu.ar</td>\n",
       "      <td>1</td>\n",
       "      <td>5</td>\n",
       "      <td>4</td>\n",
       "      <td>20</td>\n",
       "    </tr>\n",
       "    <tr>\n",
       "      <th>2</th>\n",
       "      <td>www.siat.unrc.edu.ar</td>\n",
       "      <td>1</td>\n",
       "      <td>8</td>\n",
       "      <td>4</td>\n",
       "      <td>20</td>\n",
       "    </tr>\n",
       "    <tr>\n",
       "      <th>16</th>\n",
       "      <td>dcn.exa.unrc.edu.ar</td>\n",
       "      <td>1</td>\n",
       "      <td>8</td>\n",
       "      <td>4</td>\n",
       "      <td>20</td>\n",
       "    </tr>\n",
       "    <tr>\n",
       "      <th>1</th>\n",
       "      <td>sisinfo.unrc.edu.ar</td>\n",
       "      <td>0</td>\n",
       "      <td>7</td>\n",
       "      <td>4</td>\n",
       "      <td>16</td>\n",
       "    </tr>\n",
       "    <tr>\n",
       "      <th>3</th>\n",
       "      <td>www.ing.unrc.edu.ar</td>\n",
       "      <td>0</td>\n",
       "      <td>7</td>\n",
       "      <td>4</td>\n",
       "      <td>16</td>\n",
       "    </tr>\n",
       "    <tr>\n",
       "      <th>14</th>\n",
       "      <td>dmat.exa.unrc.edu.ar</td>\n",
       "      <td>0</td>\n",
       "      <td>7</td>\n",
       "      <td>4</td>\n",
       "      <td>16</td>\n",
       "    </tr>\n",
       "  </tbody>\n",
       "</table>\n",
       "</div>"
      ],
      "text/plain": [
       "                      resource  pass_lvl_A_count  fail_lvl_A_count  \\\n",
       "7         app2.eco.unrc.edu.ar                 3                 4   \n",
       "9         cepeiper.unrc.edu.ar                 3                 6   \n",
       "10      www.edutec.unrc.edu.ar                 3                 6   \n",
       "8          www.fce.unrc.edu.ar                 2                 4   \n",
       "15     neutron.exa.unrc.edu.ar                 2                 6   \n",
       "13          dq.exa.unrc.edu.ar                 2                 6   \n",
       "12         dmi.exa.unrc.edu.ar                 1                 7   \n",
       "11         www.exa.unrc.edu.ar                 1                 7   \n",
       "0              www.unrc.edu.ar                 1                 5   \n",
       "6          www.hum.unrc.edu.ar                 1                 6   \n",
       "5   juanfilloy.bib.unrc.edu.ar                 1                 7   \n",
       "4          www.irc.unrc.edu.ar                 1                 5   \n",
       "2         www.siat.unrc.edu.ar                 1                 8   \n",
       "16         dcn.exa.unrc.edu.ar                 1                 8   \n",
       "1          sisinfo.unrc.edu.ar                 0                 7   \n",
       "3          www.ing.unrc.edu.ar                 0                 7   \n",
       "14        dmat.exa.unrc.edu.ar                 0                 7   \n",
       "\n",
       "    na_lvl_A_count  score_lvl_A  \n",
       "7                5           32  \n",
       "9                4           28  \n",
       "10               4           28  \n",
       "8                4           24  \n",
       "15               4           24  \n",
       "13               4           24  \n",
       "12               4           20  \n",
       "11               4           20  \n",
       "0                4           20  \n",
       "6                4           20  \n",
       "5                4           20  \n",
       "4                4           20  \n",
       "2                4           20  \n",
       "16               4           20  \n",
       "1                4           16  \n",
       "3                4           16  \n",
       "14               4           16  "
      ]
     },
     "execution_count": 82,
     "metadata": {},
     "output_type": "execute_result"
    }
   ],
   "source": [
    "final_df[['resource', \n",
    "          'pass_lvl_A_count', \n",
    "          'fail_lvl_A_count', \n",
    "          'na_lvl_A_count', \n",
    "          'score_lvl_A']].sort_values(by='score_lvl_A', ascending=False)"
   ]
  },
  {
   "cell_type": "code",
   "execution_count": 83,
   "metadata": {},
   "outputs": [],
   "source": [
    "df_plot_score = pd.DataFrame()\n",
    "\n",
    "df_plot_score[['resource', \n",
    "          'score_lvl_A']] = final_df[['resource', \n",
    "                                      'score_lvl_A']]"
   ]
  },
  {
   "cell_type": "code",
   "execution_count": 84,
   "metadata": {},
   "outputs": [],
   "source": [
    "df_plot_score.loc[len(df_plot_score.index)] = ['Mínimo exigido por Ley en Argentina', 80]"
   ]
  },
  {
   "cell_type": "code",
   "execution_count": 105,
   "metadata": {},
   "outputs": [
    {
     "data": {
      "text/plain": [
       "Text(0.5, 0, 'Puntaje')"
      ]
     },
     "execution_count": 105,
     "metadata": {},
     "output_type": "execute_result"
    },
    {
     "data": {
      "image/png": "[encoded data removed]",
      "text/plain": [
       "<Figure size 720x720 with 1 Axes>"
      ]
     },
     "metadata": {
      "needs_background": "light"
     },
     "output_type": "display_data"
    }
   ],
   "source": [
    "ax = df_plot_score[['resource', \n",
    "          'score_lvl_A']].sort_values(by='score_lvl_A', \n",
    "                                      ascending=True).plot.barh(x='resource',\n",
    "                                                                y='score_lvl_A',\n",
    "                                                                legend=False,\n",
    "                                                               figsize=(10,10),\n",
    "                                                               fontsize=12,\n",
    "                                                                grid=True,\n",
    "                                                               title='Ranking de Accesibilidad Web en la UNRC')\n",
    "ax.set_ylabel(\"Página web\")\n",
    "ax.set_xlabel(\"Puntaje\")"
   ]
  },
  {
   "cell_type": "code",
   "execution_count": 110,
   "metadata": {},
   "outputs": [],
   "source": [
    "fig = ax.get_figure()\n",
    "fig.savefig('/home/bibiana/repos-propios/unileaks.github.io/images/2018-12-10/ranking_accesibilidad_web.svg',\n",
    "           bbox_inches = 'tight')"
   ]
  },
  {
   "cell_type": "code",
   "execution_count": 102,
   "metadata": {},
   "outputs": [],
   "source": [
    "df_plot_result = pd.DataFrame()\n",
    "\n",
    "df_plot_result[['resource', \n",
    "                'si, cumple',\n",
    "                'no cumple',\n",
    "                'no aplica']] = final_df[['resource', \n",
    "                                                'pass_lvl_A_count',\n",
    "                                                'fail_lvl_A_count',\n",
    "                                                'na_lvl_A_count']]\n",
    "df_plot_result['no cumple'] = - df_plot_result['no cumple']"
   ]
  },
  {
   "cell_type": "code",
   "execution_count": 112,
   "metadata": {},
   "outputs": [
    {
     "data": {
      "text/plain": [
       "Text(0.5, 0, 'Puntaje')"
      ]
     },
     "execution_count": 112,
     "metadata": {},
     "output_type": "execute_result"
    },
    {
     "data": {
      "image/png": "[encoded data removed]",
      "text/plain": [
       "<Figure size 720x720 with 1 Axes>"
      ]
     },
     "metadata": {
      "needs_background": "light"
     },
     "output_type": "display_data"
    }
   ],
   "source": [
    "ax = df_plot_result.sort_values(by='no cumple', \n",
    "                                      ascending=True).plot.barh(x='resource',\n",
    "                                                                y=['no aplica',\n",
    "                                                                    'no cumple',\n",
    "                                                                  'si, cumple'],\n",
    "                                                               figsize=(10,10),\n",
    "                                                               fontsize=12,\n",
    "                                                                grid=True,\n",
    "                                                               title='Ranking de Accesibilidad Web en la UNRC')\n",
    "ax.set_ylabel(\"Página web\")\n",
    "ax.set_xlabel(\"Puntaje\")"
   ]
  },
  {
   "cell_type": "code",
   "execution_count": 113,
   "metadata": {},
   "outputs": [],
   "source": [
    "fig = ax.get_figure()\n",
    "fig.savefig('/home/bibiana/repos-propios/unileaks.github.io/images/2018-12-10/cantidad_resultados.svg',\n",
    "           bbox_inches = 'tight')"
   ]
  },
  {
   "cell_type": "code",
   "execution_count": 67,
   "metadata": {},
   "outputs": [],
   "source": [
    "df_general_data = pd.DataFrame.from_dict(diccionarios, orient='index')"
   ]
  },
  {
   "cell_type": "code",
   "execution_count": 71,
   "metadata": {},
   "outputs": [
    {
     "data": {
      "text/plain": [
       "juanfilloy.bib.unrc.edu.ar                     Biblioteca Central - Juan Filloy\n",
       "www.siat.unrc.edu.ar          Campus Virtual SIAT - Universidad Nacional de ...\n",
       "www.coro.unrc.edu.ar                                                Coro - UNRC\n",
       "dbm.exa.unrc.edu.ar                          Departamento de Biología Molecular\n",
       "dcn.exa.unrc.edu.ar                          Departamento de Ciencias Naturales\n",
       "geo.exa.unrc.edu.ar                                    Departamento de Geología\n",
       "dmat.exa.unrc.edu.ar                Departamento de Matemática | FCEFQyN - UNRC\n",
       "dmi.exa.unrc.edu.ar                 Departamento de Microbiología e Inmunología\n",
       "dq.exa.unrc.edu.ar                     Departamento de Química | FCEFQyN - UNRC\n",
       "app2.eco.unrc.edu.ar                                           Encuesta Docente\n",
       "www.eco.unrc.edu.ar                                                         FCE\n",
       "www.fce.unrc.edu.ar           Facultad de Ciencias Economicas – Servicios In...\n",
       "www.hum.unrc.edu.ar           Facultad de Ciencias Humanas | UNIVERSIDAD NAC...\n",
       "www.ing.unrc.edu.ar                               Facultad de Ingeniería - UNRC\n",
       "webmail.unrc.edu.ar                                 Horde :: WEBMAIL de la UNRC\n",
       "www.ayv.unrc.edu.ar                                                      Inicio\n",
       "www.irc.unrc.edu.ar           Secretaría de Extensión y Desarrollo UNRC – Ce...\n",
       "neutron.exa.unrc.edu.ar       Site de la Facultad de Ciencias Exactas, Físic...\n",
       "cepeiper.unrc.edu.ar          Tecnología Educativa - Universidad Nacional de...\n",
       "www.edutec.unrc.edu.ar        Tecnología Educativa - Universidad Nacional de...\n",
       "www.unrc.edu.ar                              Universidad Nacional de Río Cuarto\n",
       "sisinfo.unrc.edu.ar                          Universidad Nacional de Río Cuarto\n",
       "www.extension.unrc.edu.ar                                     Untitled Document\n",
       "gma.ing.unrc.edu.ar                                        página no disponible\n",
       "cursos.ing.unrc.edu.ar                                     página no disponible\n",
       "revista.eco.unrc.edu.ar                                    página no disponible\n",
       "dc.exa.unrc.edu.ar                                            página sin título\n",
       "www.exa.unrc.edu.ar                                           página sin título\n",
       "Name: title, dtype: object"
      ]
     },
     "execution_count": 71,
     "metadata": {},
     "output_type": "execute_result"
    }
   ],
   "source": [
    "df_general_data['title'].sort_values()"
   ]
  }
 ],
 "metadata": {
  "kernelspec": {
   "display_name": "Python 3",
   "language": "python",
   "name": "python3"
  },
  "language_info": {
   "codemirror_mode": {
    "name": "ipython",
    "version": 3
   },
   "file_extension": ".py",
   "mimetype": "text/x-python",
   "name": "python",
   "nbconvert_exporter": "python",
   "pygments_lexer": "ipython3",
   "version": "3.6.6"
  }
 },
 "nbformat": 4,
 "nbformat_minor": 2
}
